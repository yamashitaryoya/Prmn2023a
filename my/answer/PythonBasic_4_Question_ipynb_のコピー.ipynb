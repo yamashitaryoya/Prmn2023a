{
  "nbformat": 4,
  "nbformat_minor": 0,
  "metadata": {
    "colab": {
      "provenance": [],
      "include_colab_link": true
    },
    "kernelspec": {
      "name": "python3",
      "display_name": "Python 3"
    },
    "language_info": {
      "name": "python"
    }
  },
  "cells": [
    {
      "cell_type": "markdown",
      "metadata": {
        "id": "view-in-github",
        "colab_type": "text"
      },
      "source": [
        "<a href=\"https://colab.research.google.com/github/yamashitaryoya/Prmn2023a/blob/main/my/answer/PythonBasic_4_Question_ipynb_%E3%81%AE%E3%82%B3%E3%83%94%E3%83%BC.ipynb\" target=\"_parent\"><img src=\"https://colab.research.google.com/assets/colab-badge.svg\" alt=\"Open In Colab\"/></a>"
      ]
    },
    {
      "cell_type": "markdown",
      "source": [
        "<a href=\"https://colab.research.google.com/github/kiryu-3/Prmn2023/blob/main/Python/Python_Basic/question/PythonBasic_4_Question.ipynb\" target=\"_parent\"><img src=\"https://colab.research.google.com/assets/colab-badge.svg\" alt=\"Open In Colab\"/></a>"
      ],
      "metadata": {
        "id": "TA5kKi-LY1xg"
      }
    },
    {
      "cell_type": "markdown",
      "source": [
        "# 第4章 課題"
      ],
      "metadata": {
        "id": "r-kcfL2yEU8b"
      }
    },
    {
      "cell_type": "markdown",
      "source": [
        "## 課題1"
      ],
      "metadata": {
        "id": "UqgRlaNaaWsU"
      }
    },
    {
      "cell_type": "markdown",
      "source": [
        "10から2800まで、10飛ばしの数を乱数で生成し、2220000に足してください。  \n",
        "\n",
        "1.   リスト項目\n",
        "2.   リスト項目\n",
        "\n",
        "\n",
        "\n",
        "この数を5つ生成し、一つのリストに格納した後、最終的に頭に\"b\"をつけて5つ出力してください。"
      ],
      "metadata": {
        "id": "dMngS2Dtai7U"
      }
    },
    {
      "cell_type": "markdown",
      "source": [
        "＜実行結果例＞\n",
        "``` py  \n",
        "['b2220400', 'b2221750', 'b2222480', 'b2221720', 'b2220380']\n",
        "```"
      ],
      "metadata": {
        "id": "Ys4Y3shObw3w"
      }
    },
    {
      "cell_type": "code",
      "source": [
        "# 入力用\n",
        "import random\n",
        "\n",
        "gakuseki=[]\n",
        "for i in range(5):\n",
        "  gakuseki.append('b' + str(2220000 + random.randint(1,280) * 10))\n",
        "  \n",
        "print(gakuseki)\n"
      ],
      "metadata": {
        "id": "UaBFEY3Hdbsg",
        "colab": {
          "base_uri": "https://localhost:8080/"
        },
        "outputId": "296e0e1d-ca5e-4796-affd-588e0d983c3c"
      },
      "execution_count": null,
      "outputs": [
        {
          "output_type": "stream",
          "name": "stdout",
          "text": [
            "['b2220620', 'b2220230', 'b2220240', 'b2221580', 'b2221850']\n"
          ]
        }
      ]
    },
    {
      "cell_type": "markdown",
      "source": [
        "## 課題2"
      ],
      "metadata": {
        "id": "yRsfay5_8FuJ"
      }
    },
    {
      "cell_type": "markdown",
      "source": [
        "1桁の自然数を乱数を使って5つ格納した2つのリストを作ってください。  \n",
        "この時、一つのリスト内で5つの値が重複しないようにしてください\n",
        "\n",
        "その後、対応する要素を足し合わせた新しいリストを出力してください"
      ],
      "metadata": {
        "id": "4WbYBFGr8Ht3"
      }
    },
    {
      "cell_type": "markdown",
      "source": [
        "＜実行結果例＞\n",
        "``` py  \n",
        "1つ目のリスト：[1, 2, 3, 4, 5]  \n",
        "2つ目のリスト：[1, 3, 5, 7, 9]  \n",
        "足し合わせたリスト：[2, 5, 8, 11, 14]\n",
        "```"
      ],
      "metadata": {
        "id": "A0ImPPha84Nb"
      }
    },
    {
      "cell_type": "code",
      "source": [
        "# 入力用\n",
        "import random\n",
        "import numpy as np\n",
        "\n",
        "for i in range(2):\n",
        "  list_i = []\n",
        "  nature = [1,2,3,4,5,6,7,8,9]\n",
        "  random.shuffle(nature)\n",
        "\n",
        "  for j in range(5):\n",
        "    list_i.append(nature.pop(0))\n",
        "  \n",
        "  if(i == 0):\n",
        "    list_1 = list_i\n",
        "\n",
        "  else:\n",
        "    list_2 = list_i\n",
        "\n",
        "print('1つ目のリスト:',list_1)\n",
        "print('2つ目のリスト:',list_2)\n",
        "\n",
        "list_3 = np.array(list_1) + np.array(list_2)\n",
        "\n",
        "print('足し合わせたリスト:',list_3)\n",
        "\n"
      ],
      "metadata": {
        "id": "TaJm8jn2MHmk",
        "colab": {
          "base_uri": "https://localhost:8080/"
        },
        "outputId": "2087c7ef-2667-4162-819c-b553d8f163ca"
      },
      "execution_count": null,
      "outputs": [
        {
          "output_type": "stream",
          "name": "stdout",
          "text": [
            "1つ目のリスト: [4, 7, 5, 6, 9]\n",
            "2つ目のリスト: [2, 8, 7, 6, 9]\n",
            "足し合わせたリスト: [ 6 15 12 12 18]\n"
          ]
        }
      ]
    },
    {
      "cell_type": "markdown",
      "source": [
        "## 課題3"
      ],
      "metadata": {
        "id": "-qZw_n3X8xrW"
      }
    },
    {
      "cell_type": "markdown",
      "source": [
        "リストの中身を指定した数で分割してみます。\n",
        "\n",
        "以下のリストには都道府県47つが格納されています。"
      ],
      "metadata": {
        "id": "vxwATeobQf_U"
      }
    },
    {
      "cell_type": "code",
      "source": [
        "todohuken_list = [\n",
        "    '北海道', '青森県', '岩手県', '宮城県', '秋田県', '山形県', '福島県', '茨城県', '栃木県', '群馬県', \n",
        "    '埼玉県', '千葉県', '東京都', '神奈川県', '新潟県', '富山県', '石川県', '福井県', '山梨県', '長野県', \n",
        "    '岐阜県', '静岡県', '愛知県', '三重県', '滋賀県', '京都府', '大阪府', '兵庫県', '奈良県', '和歌山県', \n",
        "    '鳥取県', '島根県', '岡山県', '広島県', '山口県', '徳島県', '香川県', '愛媛県', '高知県',  '福岡県', \n",
        "    '佐賀県', '長崎県', '熊本県', '大分県', '宮崎県', '鹿児島県', '沖縄県',\n",
        "]"
      ],
      "metadata": {
        "id": "8ZdyRWbERGAY"
      },
      "execution_count": null,
      "outputs": []
    },
    {
      "cell_type": "markdown",
      "source": [
        "\n",
        "\n",
        "```\n",
        "# これはコードとして書式設定されます\n",
        "```\n",
        "\n",
        "  \n",
        "これをランダムに1つのリストのサイズを4として分割してください"
      ],
      "metadata": {
        "id": "tGPa1uU6Qs2c"
      }
    },
    {
      "cell_type": "markdown",
      "source": [
        "＜実行結果例＞  \n",
        "``` py \n",
        "[['宮崎県', '茨城県', '栃木県', '千葉県'], … , ['岩手県', '滋賀県', '宮城県']]\n",
        "```"
      ],
      "metadata": {
        "id": "PWLTwz0TXzm_"
      }
    },
    {
      "cell_type": "code",
      "source": [
        "# 入力用\n",
        "import random\n",
        "\n",
        "random.shuffle(todohuken_list)\n",
        "result = []\n",
        "\n",
        "for i in range(0,len(todohuken_list),4):\n",
        "    result.append(todohuken_list[i:i+4])\n",
        "\n",
        "print(result)\n"
      ],
      "metadata": {
        "id": "rgPlOseCTC_h",
        "colab": {
          "base_uri": "https://localhost:8080/"
        },
        "outputId": "9b4b6bd2-18f4-41ea-b94d-e0cf65cf8bcc"
      },
      "execution_count": null,
      "outputs": [
        {
          "output_type": "stream",
          "name": "stdout",
          "text": [
            "[['長崎県', '奈良県', '千葉県', '広島県'], ['岐阜県', '徳島県', '秋田県', '岩手県'], ['栃木県', '山梨県', '愛知県', '高知県'], ['神奈川県', '沖縄県', '和歌山県', '島根県'], ['岡山県', '鳥取県', '滋賀県', '埼玉県'], ['大阪府', '静岡県', '福島県', '兵庫県'], ['熊本県', '大分県', '東京都', '長野県'], ['福岡県', '山形県', '山口県', '新潟県'], ['香川県', '青森県', '三重県', '宮崎県'], ['愛媛県', '京都府', '宮城県', '佐賀県'], ['茨城県', '福井県', '北海道', '鹿児島県'], ['石川県', '富山県', '群馬県']]\n"
          ]
        }
      ]
    },
    {
      "cell_type": "markdown",
      "source": [
        "## 課題4"
      ],
      "metadata": {
        "id": "W573lh39MOlj"
      }
    },
    {
      "cell_type": "markdown",
      "source": [
        "ある大学の名前と年齢が、次のような形式で格納されたリスト `university_list` があります。"
      ],
      "metadata": {
        "id": "sSIMKY-aNcIx"
      }
    },
    {
      "cell_type": "code",
      "source": [
        "university_list = [\n",
        "    \"Chitose,25\",\n",
        "    \"Hokudai,105\",\n",
        "    \"Muroran,74\",\n",
        "    \"Hakodate,23\",\n",
        "]"
      ],
      "metadata": {
        "id": "v-wGyWuKK3wl"
      },
      "execution_count": null,
      "outputs": []
    },
    {
      "cell_type": "markdown",
      "source": [
        "このリストを、年齢順にソートして、新たなリストとして出力してください"
      ],
      "metadata": {
        "id": "XIxDf9QgO1iH"
      }
    },
    {
      "cell_type": "markdown",
      "source": [
        "＜実行結果＞  \n",
        "``` py\n",
        "['Chitose,25', 'Hokudai,105', 'Muroran,74', 'Hakodate,23']\n",
        "['Hakodate,23', 'Chitose,25', 'Muroran,74', 'Hokudai,105']\n",
        "```"
      ],
      "metadata": {
        "id": "0Z2-_1dAQENU"
      }
    },
    {
      "cell_type": "code",
      "source": [
        "# 入力用\n",
        "int_num_list = []\n",
        "str_num_list = []\n",
        "sorted_univercity_list = []\n",
        "for i in range(4):\n",
        "  int_num_list.append(int(university_list[i].split(',')[1]))\n",
        "\n",
        "int_num_list.sort()\n",
        "\n",
        "for i in range(4):\n",
        "  str_num_list.append(str(int_num_list[i]))\n",
        "\n",
        "for i in range(4):\n",
        "  for j in range(4):\n",
        "    if (str_num_list[i] in university_list[j]):\n",
        "      sorted_univercity_list.append(university_list[j])\n",
        "\n",
        "print(university_list)\n",
        "print(sorted_univercity_list)"
      ],
      "metadata": {
        "id": "ficNVfkgR5Kv",
        "colab": {
          "base_uri": "https://localhost:8080/"
        },
        "outputId": "9fd85df2-0581-4475-a4ec-9d2d0d19b97a"
      },
      "execution_count": null,
      "outputs": [
        {
          "output_type": "stream",
          "name": "stdout",
          "text": [
            "['Chitose,25', 'Hokudai,105', 'Muroran,74', 'Hakodate,23']\n",
            "['Hakodate,23', 'Chitose,25', 'Muroran,74', 'Hokudai,105']\n"
          ]
        }
      ]
    },
    {
      "cell_type": "markdown",
      "source": [
        "## 課題5"
      ],
      "metadata": {
        "id": "QijnXk7UWAVC"
      }
    },
    {
      "cell_type": "markdown",
      "source": [
        "**FizzBuzz（フィズ・バズ）問題**という問題について解いていきます。\n",
        "\n",
        "もともとは、英語圏で長距離ドライブ中や飲み会の時に行われる言葉遊びです。"
      ],
      "metadata": {
        "id": "m7F47Q1mWCA6"
      }
    },
    {
      "cell_type": "markdown",
      "source": [
        "以下のような問題になります。\n",
        "\n",
        "1～Nまでの整数を順に出力しなさい。ただし、例外として以下のルールを守ること。\n",
        "\n",
        "* 3で割り切れる数字の場合は\"Fizz\"を出力\n",
        "* 5で割り切れる数字の場合は\"Buzz\"を出力\n",
        "* どちらでも割り切れる数字の場合は\"FizzBuzz\"を出力"
      ],
      "metadata": {
        "id": "fArw0VcNWgwZ"
      }
    },
    {
      "cell_type": "markdown",
      "source": [
        "ここではN=100として、まずは一つのリストに\n",
        "\"Fizz\" か \"Buzz\" か \"FizzBuzz\" か \"others\" を格納してください。\n",
        "\n",
        "その後、それぞれの要素の数をカウントしてください。"
      ],
      "metadata": {
        "id": "SYqkpYstWm7Z"
      }
    },
    {
      "cell_type": "markdown",
      "source": [
        "＜実行結果＞  \n",
        "``` py\n",
        "FizzBuzzの数：6 \n",
        "Fizzの数：27 \n",
        "Buzzの数：14\n",
        "othersの数：53  \n",
        "```"
      ],
      "metadata": {
        "id": "OqLuJTcWYzFt"
      }
    },
    {
      "cell_type": "code",
      "source": [
        "# 入力用\n",
        "game_list = []\n",
        "\n",
        "for i in range(1,101):\n",
        "\n",
        "  if(i%3 == 0 and i%5 == 0):\n",
        "    i = 'FizzBuzz'\n",
        "\n",
        "  elif(i%3 == 0):\n",
        "    i = 'Fizz'\n",
        "\n",
        "  elif(i%5 == 0):\n",
        "    i = 'Buzz'\n",
        "\n",
        "  else:\n",
        "    i = 'others'\n",
        "\n",
        "  game_list.append(i)\n",
        "\n",
        "print('FizzBuzzの数;',game_list.count('FizzBuzz'))\n",
        "print('Fizzの数;',game_list.count('Fizz'))\n",
        "print('Buzzの数;',game_list.count('Buzz'))\n",
        "print('othersの数;',game_list.count('others'))"
      ],
      "metadata": {
        "id": "5kEDaVLmaEpb",
        "colab": {
          "base_uri": "https://localhost:8080/"
        },
        "outputId": "e3158643-34cd-48f2-ae2a-4703b58d282b"
      },
      "execution_count": null,
      "outputs": [
        {
          "output_type": "stream",
          "name": "stdout",
          "text": [
            "FizzBuzzの数; 6\n",
            "Fizzの数; 27\n",
            "Buzzの数; 14\n",
            "othersの数; 53\n"
          ]
        }
      ]
    }
  ]
}