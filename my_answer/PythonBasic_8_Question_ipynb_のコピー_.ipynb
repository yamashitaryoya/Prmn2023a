{
  "cells": [
    {
      "cell_type": "markdown",
      "metadata": {
        "id": "view-in-github",
        "colab_type": "text"
      },
      "source": [
        "<a href=\"https://colab.research.google.com/github/yamashitaryoya/Prmn2023a/blob/main/my_answer/PythonBasic_8_Question_ipynb_%E3%81%AE%E3%82%B3%E3%83%94%E3%83%BC_.ipynb\" target=\"_parent\"><img src=\"https://colab.research.google.com/assets/colab-badge.svg\" alt=\"Open In Colab\"/></a>"
      ]
    },
    {
      "cell_type": "markdown",
      "metadata": {
        "id": "IoLAPliGuLZM"
      },
      "source": [
        "<a href=\"https://colab.research.google.com/github/kiryu-3/Prmn2023/blob/main/Python/Python_Basic/question/PythonBasic_8_Question.ipynb\" target=\"_parent\"><img src=\"https://colab.research.google.com/assets/colab-badge.svg\" alt=\"Open In Colab\"/></a>"
      ]
    },
    {
      "cell_type": "markdown",
      "metadata": {
        "id": "ZFQrSJHsZEns"
      },
      "source": [
        "# オブジェクト指向1 課題"
      ]
    },
    {
      "cell_type": "markdown",
      "metadata": {
        "id": "1DGEULJlZLkL"
      },
      "source": [
        "## 課題1"
      ]
    },
    {
      "cell_type": "markdown",
      "metadata": {
        "id": "he1ry54qZP56"
      },
      "source": [
        "以下の要件を満たすクラスを作成してください"
      ]
    },
    {
      "cell_type": "markdown",
      "metadata": {
        "id": "PkJ0b9znZUMi"
      },
      "source": [
        "**指示**\n",
        "\n",
        "・ moveメソッド内で「歩いたよ」と出力するInsectクラスを作る\n",
        "・ moveメソッド内で「飛んだよ」と出力するButterflyクラスを作る\n",
        "・ moveメソッド内で「跳んだよ」と出力するLocustクラスを作る\n",
        "・ moveメソッド内で「綺麗に飛んだよ」と出力するSwallowtailButterflyクラスを作る\n",
        "\n",
        "\n",
        "\n"
      ]
    },
    {
      "cell_type": "markdown",
      "metadata": {
        "id": "MOz_aUO4cj-9"
      },
      "source": [
        "4つのクラスのインスタンスをリストinsect_listに格納してください。\n",
        "その後、格納した4つのインスタンスからmoveメソッドを呼び出してください。"
      ]
    },
    {
      "cell_type": "code",
      "execution_count": 8,
      "metadata": {
        "colab": {
          "base_uri": "https://localhost:8080/"
        },
        "id": "p1fSdDIhrYbf",
        "outputId": "bc677348-4198-421f-961b-6acb7ce41dd6"
      },
      "outputs": [
        {
          "output_type": "stream",
          "name": "stdout",
          "text": [
            "歩いたよ\n",
            "飛んだよ\n",
            "跳んだよ\n",
            "綺麗に飛んだよ\n"
          ]
        }
      ],
      "source": [
        "# 入力用\n",
        "class Insect:\n",
        "  def move(self):\n",
        "    print(\"歩いたよ\")\n",
        "\n",
        "class Butterfly:\n",
        "  def move(self):\n",
        "     print(\"飛んだよ\")\n",
        "\n",
        "\n",
        "class Locust:\n",
        "  def move(self):\n",
        "    print(\"跳んだよ\")\n",
        "\n",
        "\n",
        "class SwallowtailButterfly:\n",
        "  def move(self):\n",
        "    print(\"綺麗に飛んだよ\")\n",
        "\n",
        "Insect = Insect()\n",
        "Butterfly =  Butterfly()\n",
        "Locust = Locust()\n",
        "SwallowtailButterfly = SwallowtailButterfly()\n",
        "\n",
        "insect_list = [Insect,Butterfly,Locust,SwallowtailButterfly]\n",
        "\n",
        "for i in insect_list:\n",
        "  i.move()\n",
        "\n",
        "\n"
      ]
    },
    {
      "cell_type": "markdown",
      "metadata": {
        "id": "sxV6gRm8djFh"
      },
      "source": [
        "## 課題2\n",
        "\n"
      ]
    },
    {
      "cell_type": "markdown",
      "metadata": {
        "id": "AXc3PV3ddkyJ"
      },
      "source": [
        "以下の要件を満たすクラスを作成してください"
      ]
    },
    {
      "cell_type": "markdown",
      "metadata": {
        "id": "kvvx9u5Kdh8i"
      },
      "source": [
        "**指示**\n",
        "\n",
        "・ クラス名は Car、属性として変数fuelを持つ\n",
        "\n",
        "・ 引数なしコンストラクタでfuelを0で初期化する\n",
        "\n",
        "・ メソッドとして戻り値、引数無しのrun() を持つ\n",
        "\n",
        "・ run()メソッドではfuelを1消費して、走ったことが分かる文言を表示させる\n",
        "     \t  　(例:  \"燃料を1消費して走りました。\")\n",
        "\n",
        "・ fuelが0以下の時走れなかったことが分かる文言を表示させる\n",
        "\n",
        "\n",
        "\n"
      ]
    },
    {
      "cell_type": "markdown",
      "metadata": {
        "id": "SZD3JsY_dUZc"
      },
      "source": [
        "Carに給油をするGasStationクラスを作成してください\n",
        "\n",
        "・ クラス名はGasStation、コンストラクタ無し\n",
        "\n",
        "・ refuel()メソッドを持つ\n",
        "\n",
        "・ refuel()ではCarのfuelを20増やす\n",
        "\n",
        "・ refuel()では給油したことが分かる文言を表示する"
      ]
    },
    {
      "cell_type": "markdown",
      "metadata": {
        "id": "mtvFz04Dc4bl"
      },
      "source": [
        "CarとGasStationをインスタンス化し、\n",
        "GasStationで給油をする前と後でCarのrun()を呼び出してください"
      ]
    },
    {
      "cell_type": "markdown",
      "metadata": {
        "id": "Hk4WYMCXMtf1"
      },
      "source": [
        "＜メイン部分のコード（固定）＞"
      ]
    },
    {
      "cell_type": "code",
      "execution_count": 9,
      "metadata": {
        "colab": {
          "base_uri": "https://localhost:8080/"
        },
        "id": "1j_9Ub9ZMuNE",
        "outputId": "52367950-36ba-46cd-8371-9688685fe9a2"
      },
      "outputs": [
        {
          "output_type": "stream",
          "name": "stdout",
          "text": [
            "燃料が足りないため走れませんでした。\n",
            "給油したことによりfuelが20増えました。\n",
            "燃料を1消費して走りました。\n"
          ]
        }
      ],
      "source": [
        "car = Car()\n",
        "gasstation = GasStation()\n",
        "\n",
        "car.run()\n",
        "gasstation.refuel(car)\n",
        "car.run()"
      ]
    },
    {
      "cell_type": "markdown",
      "metadata": {
        "id": "RNXwj-VBeFPQ"
      },
      "source": [
        "＜実行結果例＞\n",
        "\n",
        "```\n",
        "燃料が足りないため走れませんでした。\n",
        "給油したことによりfuelが20増えました。\n",
        "燃料を1消費して走りました。\n",
        "```"
      ]
    },
    {
      "cell_type": "code",
      "execution_count": 6,
      "metadata": {
        "colab": {
          "base_uri": "https://localhost:8080/"
        },
        "id": "jpQTz1Kxra7P",
        "outputId": "bbc60278-3461-4046-a750-7cd3d875f367"
      },
      "outputs": [
        {
          "output_type": "stream",
          "name": "stdout",
          "text": [
            "燃料が足りないため走れませんでした。\n",
            "給油したことによりfuelが20増えました。\n",
            "燃料を1消費して走りました。\n"
          ]
        }
      ],
      "source": [
        "# 入力用\n",
        "class Car:\n",
        "  def __init__(self):\n",
        "    self.fuel = 0\n",
        "\n",
        "  def run(self):\n",
        "    if(car.fuel <= 0):\n",
        "      print(\"燃料が足りないため走れませんでした。\")\n",
        "    else:\n",
        "      car.fuel = car.fuel -1\n",
        "      print(\"燃料を1消費して走りました。\")\n",
        "\n",
        "class  GasStation:\n",
        "  def refuel(self,car):\n",
        "    car.fuel = car.fuel + 20\n",
        "    print(\"給油したことによりfuelが20増えました。\")\n",
        "\n",
        "car = Car()\n",
        "gasstation = GasStation()\n",
        "\n",
        "car.run()\n",
        "gasstation.refuel(car)\n",
        "car.run()\n"
      ]
    },
    {
      "cell_type": "markdown",
      "metadata": {
        "id": "GCHVpQ4aV_UR"
      },
      "source": [
        "## 課題3"
      ]
    },
    {
      "cell_type": "markdown",
      "metadata": {
        "id": "ECrnt9e5WJSc"
      },
      "source": [
        "以下の要件を満たすクラスを作成してください"
      ]
    },
    {
      "cell_type": "markdown",
      "metadata": {
        "id": "SA6Tbw_lXehC"
      },
      "source": [
        "**指示**\n",
        "\n",
        "口座情報を管理するAccountクラスを作成してください\n",
        "\n",
        "・ name（名前）, number（口座番号）, balance（残高）を属性にもつ\n",
        "\n",
        "・ コンストラクタでは、balanceを0で初期化する\n",
        "\n"
      ]
    },
    {
      "cell_type": "markdown",
      "metadata": {
        "id": "M2FE_MUndc4z"
      },
      "source": [
        "銀行でのお金のやり取りを行うATMクラスを作成してください\n",
        "\n",
        "・ ATMのコンストラクタでAccountのインスタンスを管理するaccountsを初期化する\n",
        "\n",
        "・ register_account()メソッドではアカウントを登録する\n",
        " 　 この中でAccountクラスをnameとnubmerを引数としてインスタンス化する\n",
        "\n",
        "・ exists_account()メソッドは引数のnameとnumberから\n",
        "   　 accountsに存在するかどうかをbooleanで返す\n",
        "\n",
        "・ deposit()メソッドでは引数のmoneyを使って入金を行う\n",
        "\n",
        "・ withdraw()メソッドでは引数のmoneyを使って引出を行う\n",
        " 　 残高が足りないときには行えないようにする\n",
        "\n"
      ]
    },
    {
      "cell_type": "markdown",
      "metadata": {
        "id": "-tmD0hewdiS1"
      },
      "source": [
        "それぞれ何か行うたびに、何をしたか分かるように標準出力で表示するようにしてください"
      ]
    },
    {
      "cell_type": "markdown",
      "metadata": {
        "id": "fr8xuuUHM7Jt"
      },
      "source": [
        "＜メイン部分のコード（固定）＞"
      ]
    },
    {
      "cell_type": "code",
      "execution_count": 5,
      "metadata": {
        "colab": {
          "base_uri": "https://localhost:8080/"
        },
        "id": "Y4lMggHOM4wU",
        "outputId": "edeaadfa-bc46-48dc-8a0d-19074e78fec3"
      },
      "outputs": [
        {
          "output_type": "stream",
          "name": "stdout",
          "text": [
            "千歳太郎さんのアカウント口座番号を：12345で登録しました。\n",
            "名前：千歳太郎 口座番号：12345は存在します。\n",
            "口座番号：12345に1000円入金しました。\n",
            "口座番号：12345から2000円引き出せません。\n",
            "残金は1000円です。\n",
            "口座番号：12345から500円引き出しました。\n",
            "残金は500円です。\n"
          ]
        }
      ],
      "source": [
        "atm = ATM()\n",
        "\n",
        "atm.exists_account(\"千歳太郎\",\"12345\")\n",
        "atm.register_account(\"千歳太郎\",\"12345\")\n",
        "\n",
        "if atm.exists_account(\"千歳太郎\",\"12345\"):\n",
        "  atm.deposit(\"12345\", 1000)\n",
        "  atm.withdraw(\"12345\", 2000)\n",
        "  atm.withdraw(\"12345\", 500)"
      ]
    },
    {
      "cell_type": "markdown",
      "metadata": {
        "id": "0zUHE9eHe5-Z"
      },
      "source": [
        "＜実行結果例＞\n",
        "\n",
        "```\n",
        "名前:千歳太郎 口座番号:12345 は存在しません。\n",
        "千歳太郎 さんのアカウントを口座番号:12345 で登録しました。\n",
        "名前:千歳太郎 口座番号:12345 は存在します。\n",
        "口座番号:12345 に1000 円入金しました。\n",
        "口座番号:12345 から2000 円引き出せませんでした。残高:1000 円です。\n",
        "口座番号:12345 から500 円引き出しました。残高:500 円です。\n",
        "```"
      ]
    },
    {
      "cell_type": "code",
      "execution_count": 17,
      "metadata": {
        "colab": {
          "base_uri": "https://localhost:8080/"
        },
        "id": "ckaSfHW4rbt-",
        "outputId": "7814cdec-3232-4638-8986-cc7a01d2dac1"
      },
      "outputs": [
        {
          "output_type": "stream",
          "name": "stdout",
          "text": [
            "千歳太郎さんのアカウント口座番号を：12345で登録しました。\n",
            "名前：千歳太郎 口座番号：12345は存在します。\n",
            "口座番号：12345に1000円入金しました。\n",
            "口座番号：12345から2000円引き出せません。\n",
            "残金は1000円です。\n",
            "口座番号：12345から500円引き出しました。\n",
            "残金は500円です。\n"
          ]
        }
      ],
      "source": [
        "# 入力用\n",
        "class Account:\n",
        "  def __init__(self,name,number):\n",
        "    self.name = name\n",
        "    self.number = number\n",
        "    self.balance = 0\n",
        "\n",
        "\n",
        "class ATM:\n",
        "  def __init__(self):\n",
        "    self.accounts = []\n",
        "\n",
        "  def register_account(self,name,number):\n",
        "    self.accounts.append(Account(name,number))\n",
        "    print(\"{}さんのアカウント口座番号を：{}で登録しました。\".format(name,number))\n",
        "\n",
        "  def exists_account(self,name,number):\n",
        "    for account in self.accounts:\n",
        "      if (account.name == name and account.number == number):\n",
        "        print(\"名前：{} 口座番号：{}は存在します。\".format(name,number))\n",
        "        return True\n",
        "      else:\n",
        "        print(\"名前：{} 口座番号：{}は存在しません。\".format(name,number))\n",
        "        return False\n",
        "\n",
        "  def deposit(self,number,money):\n",
        "    for account in self.accounts:\n",
        "      if account.number == number:\n",
        "        account.balance += money\n",
        "        print(\"口座番号：{}に{}円入金しました。\".format(number,money))\n",
        "        return\n",
        "\n",
        "      else:\n",
        "        print(\"口座番号：{}は存在しません。\".format(number))\n",
        "\n",
        "  def withdraw(self,number,money):\n",
        "    for account in self.accounts:\n",
        "      if account.number == number:\n",
        "        if account.balance - money < 0:\n",
        "          print(\"口座番号：{}から{}円引き出せません。\".format(number,money))\n",
        "          print(\"残金は{}円です。\".format(account.balance))\n",
        "          return 0\n",
        "\n",
        "        else:\n",
        "          print(\"口座番号：{}から{}円引き出しました。\".format(number,money))\n",
        "          print(\"残金は{}円です。\".format(account.balance - money))\n",
        "          return money\n",
        "\n",
        "      print()\n",
        "      return 0\n",
        "\n",
        "\n",
        "atm = ATM()\n",
        "\n",
        "atm.exists_account(\"千歳太郎\",\"12345\")\n",
        "atm.register_account(\"千歳太郎\",\"12345\")\n",
        "\n",
        "if atm.exists_account(\"千歳太郎\",\"12345\"):\n",
        "  atm.deposit(\"12345\", 1000)\n",
        "  atm.withdraw(\"12345\", 2000)\n",
        "  atm.withdraw(\"12345\", 500)"
      ]
    }
  ],
  "metadata": {
    "colab": {
      "provenance": [],
      "include_colab_link": true
    },
    "kernelspec": {
      "display_name": "Python 3",
      "name": "python3"
    },
    "language_info": {
      "name": "python"
    }
  },
  "nbformat": 4,
  "nbformat_minor": 0
}