{
  "nbformat": 4,
  "nbformat_minor": 0,
  "metadata": {
    "colab": {
      "provenance": []
    },
    "kernelspec": {
      "name": "python3",
      "display_name": "Python 3"
    },
    "language_info": {
      "name": "python"
    }
  },
  "cells": [
    {
      "cell_type": "markdown",
      "source": [
        "# 第2章 課題"
      ],
      "metadata": {
        "id": "C44SsXDACtHu"
      }
    },
    {
      "cell_type": "markdown",
      "source": [
        "## 課題1"
      ],
      "metadata": {
        "id": "OnkezWHRCwr9"
      }
    },
    {
      "cell_type": "markdown",
      "source": [
        "for文を使って、以下のように出力してください"
      ],
      "metadata": {
        "id": "q32rK-cECzCl"
      }
    },
    {
      "cell_type": "markdown",
      "source": [
        "![oSFeQoX.png](https://i.imgur.com/oSFeQoX.png)"
      ],
      "metadata": {
        "id": "FxMcxznVB6cI"
      }
    },
    {
      "cell_type": "code",
      "source": [
        "# 入力用\n",
        "for i in range(1,5):\n",
        "  print(\" \" * (4-i) + \"*\" * i + \"*\" * (i-1))\n"
      ],
      "metadata": {
        "id": "iBFSsrdRC5Zt",
        "outputId": "555f288c-ecd1-4294-cdb3-2f4bb7623a49",
        "colab": {
          "base_uri": "https://localhost:8080/"
        }
      },
      "execution_count": 7,
      "outputs": [
        {
          "output_type": "stream",
          "name": "stdout",
          "text": [
            "   *\n",
            "  ***\n",
            " *****\n",
            "*******\n"
          ]
        }
      ]
    },
    {
      "cell_type": "markdown",
      "source": [
        "## 課題2"
      ],
      "metadata": {
        "id": "gIn-UqGTCagu"
      }
    },
    {
      "cell_type": "markdown",
      "source": [
        "課題1の場合を`n=4`として、nを自分で設定して出力できるようにしてください"
      ],
      "metadata": {
        "id": "ltdiEdqYDFy8"
      }
    },
    {
      "cell_type": "markdown",
      "source": [
        "＜例＞ n=5の場合  \n",
        "![o5NjugQ.png](https://imgur.com/o5NjugQ.png)"
      ],
      "metadata": {
        "id": "hw0FM8BRDHz1"
      }
    },
    {
      "cell_type": "code",
      "source": [
        "# 入力用\n",
        "n=int(input('n='))\n",
        "\n",
        "for i in range(1,n+1):\n",
        "  print(\" \" * (n-i) + \"*\" * i + \"*\" * (i-1))"
      ],
      "metadata": {
        "id": "upd76Tv-FrIB",
        "outputId": "12f4d211-f103-4e81-bb34-e25c29c64e16",
        "colab": {
          "base_uri": "https://localhost:8080/"
        }
      },
      "execution_count": 12,
      "outputs": [
        {
          "output_type": "stream",
          "name": "stdout",
          "text": [
            "n=4\n",
            "   *\n",
            "  ***\n",
            " *****\n",
            "*******\n"
          ]
        }
      ]
    },
    {
      "cell_type": "markdown",
      "source": [
        "## 課題3"
      ],
      "metadata": {
        "id": "tLMJvwBDE7wT"
      }
    },
    {
      "cell_type": "markdown",
      "source": [
        "for文を使って、以下のように出力してください"
      ],
      "metadata": {
        "id": "vZNvWsG7E99q"
      }
    },
    {
      "cell_type": "markdown",
      "source": [
        "![oSirXec.png](https://imgur.com/oSirXec.png)"
      ],
      "metadata": {
        "id": "ijOV-ilXGDNR"
      }
    },
    {
      "cell_type": "code",
      "source": [
        "# 入力用\n",
        "for i in range(1,8):\n",
        "\n",
        "  if (i<=4):\n",
        "    print(\" \"*(4-i) + \"*\"*i + \"*\"*(i-1))\n",
        "    \n",
        "  else:\n",
        "    print(\" \"*(i-4) + \"*\"*(8-i) + \"*\"*(7-i))"
      ],
      "metadata": {
        "id": "Q5Ob9uZpGIE3",
        "outputId": "57480374-a22e-4a97-9ee5-39bd5f315b34",
        "colab": {
          "base_uri": "https://localhost:8080/"
        }
      },
      "execution_count": 52,
      "outputs": [
        {
          "output_type": "stream",
          "name": "stdout",
          "text": [
            "   *\n",
            "  ***\n",
            " *****\n",
            "*******\n",
            " *****\n",
            "  ***\n",
            "   *\n"
          ]
        }
      ]
    },
    {
      "cell_type": "markdown",
      "source": [
        "## 課題4"
      ],
      "metadata": {
        "id": "Oh7whOPkGQ3I"
      }
    },
    {
      "cell_type": "markdown",
      "source": [
        "課題3の場合を`n=4`として、nを自分で設定して出力できるようにしてください"
      ],
      "metadata": {
        "id": "PnvT8MQbGS03"
      }
    },
    {
      "cell_type": "markdown",
      "source": [
        "＜例＞ n=5の場合  \n",
        "\n",
        "![my4J17V.png](https://i.imgur.com/my4J17V.png)"
      ],
      "metadata": {
        "id": "ZujkAbVMGzhn"
      }
    },
    {
      "cell_type": "code",
      "source": [
        "# 入力用\n",
        "n=int(input('n='))\n",
        "\n",
        "for i in range(1,2*n+1):\n",
        "\n",
        "  if (i<=(n)):\n",
        "    print(\" \"*(n-i) + \"*\"*(i) + \"*\"*(i-1))\n",
        "\n",
        "  else:\n",
        "    print(\" \" * (i-n) + \"*\" * (2*n-i) + \"*\" * (2*n-1-i))"
      ],
      "metadata": {
        "id": "hCFNQ7mWG99u",
        "outputId": "e38e1152-2fb4-4526-dbbc-78113e54ce6e",
        "colab": {
          "base_uri": "https://localhost:8080/"
        }
      },
      "execution_count": 61,
      "outputs": [
        {
          "output_type": "stream",
          "name": "stdout",
          "text": [
            "n=5\n",
            "    *\n",
            "   ***\n",
            "  *****\n",
            " *******\n",
            "*********\n",
            " *******\n",
            "  *****\n",
            "   ***\n",
            "    *\n",
            "     \n"
          ]
        }
      ]
    },
    {
      "cell_type": "markdown",
      "source": [
        "## 課題5"
      ],
      "metadata": {
        "id": "R2MvOK4wHJlK"
      }
    },
    {
      "cell_type": "markdown",
      "source": [
        "for文を使って、以下のように出力してください"
      ],
      "metadata": {
        "id": "ddMIUoaKHcwd"
      }
    },
    {
      "cell_type": "markdown",
      "source": [
        "![vDUi5eM.png](https://imgur.com/vDUi5eM.png)"
      ],
      "metadata": {
        "id": "CD1cVUlWHLVO"
      }
    },
    {
      "cell_type": "code",
      "source": [
        "# 入力用\n",
        "for i in range(1,8):\n",
        "\n",
        "  if (i<4):\n",
        "    print(\" \"*(4-i) + \"*\"*i + \"*\"*(i-1) + \" \"*(7-2*i) + \"*\"*i + \"*\"*(i-1))\n",
        "\n",
        "  elif(i==4):\n",
        "    print(\"*\"*13)\n",
        "    \n",
        "  else:\n",
        "    print(\" \"*(i-4) + \"*\"*(8-i) + \"*\"*(7-i) + \" \"*(2*i-9) + \"*\"*(8-i) + \"*\"*(7-i))"
      ],
      "metadata": {
        "id": "1pDkfJpUHd93",
        "outputId": "0690f8a4-9836-4674-ec6b-483d5b237ec4",
        "colab": {
          "base_uri": "https://localhost:8080/"
        }
      },
      "execution_count": 57,
      "outputs": [
        {
          "output_type": "stream",
          "name": "stdout",
          "text": [
            "   *     *\n",
            "  ***   ***\n",
            " ***** *****\n",
            "*************\n",
            " ***** *****\n",
            "  ***   ***\n",
            "   *     *\n"
          ]
        }
      ]
    },
    {
      "cell_type": "markdown",
      "source": [
        "## 課題6"
      ],
      "metadata": {
        "id": "oubbafOBHerl"
      }
    },
    {
      "cell_type": "markdown",
      "source": [
        "課題5の場合を`n=4`として、nを自分で設定して出力できるようにしてください"
      ],
      "metadata": {
        "id": "7SzgFdC-HzG9"
      }
    },
    {
      "cell_type": "markdown",
      "source": [
        "＜例＞ n=5の場合  \n",
        "\n",
        "![udkVlYG.png](https://imgur.com/udkVlYG.png)"
      ],
      "metadata": {
        "id": "LY8g9PVPH2OW"
      }
    },
    {
      "cell_type": "code",
      "source": [
        "# 入力用\n",
        "n=int(input('n='))\n",
        "\n",
        "for i in range(1,2*n+1):\n",
        "  \n",
        "  if (i<n):\n",
        "    print(\" \"*(n-i) + \"*\"*(i) + \"*\"*(i-1) + \" \"*(2*n-2*i-1) + \"*\"*i + \"*\"*(i-1))\n",
        "\n",
        "  elif(i==n):\n",
        "    print(\"*\"*(2*(2*n-1)-1))\n",
        "\n",
        "  else:\n",
        "    print(\" \"*(i-n) + \"*\"*(2*n-i) + \"*\"*(2*n-i-1) + \" \"*(2*i-2*n-1) + \"*\"*(2*n-i) + \"*\"*(2*n-i-1))"
      ],
      "metadata": {
        "id": "XZOK5ulbH-tu",
        "colab": {
          "base_uri": "https://localhost:8080/"
        },
        "outputId": "a99237a6-489b-471c-86d9-11f3ef62e385"
      },
      "execution_count": 110,
      "outputs": [
        {
          "output_type": "stream",
          "name": "stdout",
          "text": [
            "n=4\n",
            "   *     *\n",
            "  ***   ***\n",
            " ***** *****\n",
            "*************\n",
            " ***** *****\n",
            "  ***   ***\n",
            "   *     *\n",
            "           \n"
          ]
        }
      ]
    },
    {
      "cell_type": "markdown",
      "source": [
        "## 課題7"
      ],
      "metadata": {
        "id": "ouqTUmPQIKGF"
      }
    },
    {
      "cell_type": "markdown",
      "source": [
        "for文を使って、以下のように出力してください"
      ],
      "metadata": {
        "id": "WHSxdOHuIMRM"
      }
    },
    {
      "cell_type": "markdown",
      "source": [
        "![IuP0M16.png](https://imgur.com/IuP0M16.png)"
      ],
      "metadata": {
        "id": "-G--WFTkIM8s"
      }
    },
    {
      "cell_type": "code",
      "source": [
        "# 入力用\n",
        "for i in range(1,14):\n",
        "\n",
        "  if (i<4):\n",
        "    print(\" \"*(4-i) + \"*\"*i + \"*\"*(i-1) + \" \"*(7-2*i) + \"*\"*i + \"*\"*(i-1))\n",
        "\n",
        "  elif(i==4):\n",
        "    print(\"*\"*13)\n",
        "    \n",
        "  elif(i<8):\n",
        "    print(\" \"*(i-4) + \"*\"*(8-i) + \"*\"*(7-i) + \" \"*(2*i-9) + \"*\"*(8-i) + \"*\"*(7-i))\n",
        "\n",
        "  elif(i<10):\n",
        "    print(\" \"*(10-i) + \"*\"*(i-6) + \"*\"*(i-7) + \" \"*(-2*i+19) + \"*\"*(i-6) + \"*\"*(i-7))\n",
        "\n",
        "  elif(i==10):\n",
        "    print(\"*\"*13)\n",
        "\n",
        "  else:\n",
        "    print(\" \"*(i-10) + \"*\"*(14-i) + \"*\"*(13-i) + \" \"*(2*i-21) + \"*\"*(14-i) + \"*\"*(13-i))\n",
        "  \n",
        "  \n"
      ],
      "metadata": {
        "id": "BVXjDteuIijL",
        "outputId": "22c7ea5e-5335-4f81-f4f1-fa59c1d1f6ec",
        "colab": {
          "base_uri": "https://localhost:8080/"
        }
      },
      "execution_count": 108,
      "outputs": [
        {
          "output_type": "stream",
          "name": "stdout",
          "text": [
            "   *     *\n",
            "  ***   ***\n",
            " ***** *****\n",
            "*************\n",
            " ***** *****\n",
            "  ***   ***\n",
            "   *     *\n",
            "  ***   ***\n",
            " ***** *****\n",
            "*************\n",
            " ***** *****\n",
            "  ***   ***\n",
            "   *     *\n"
          ]
        }
      ]
    },
    {
      "cell_type": "markdown",
      "source": [
        "## 課題8"
      ],
      "metadata": {
        "id": "31u0ExX2IjWj"
      }
    },
    {
      "cell_type": "markdown",
      "source": [
        "課題7の場合を`n=4`として、nを自分で設定して出力できるようにしてください"
      ],
      "metadata": {
        "id": "zeOvmKarInpz"
      }
    },
    {
      "cell_type": "markdown",
      "source": [
        "＜例＞ n=5の場合  \n",
        "\n",
        "![AlTnu1k.png](https://imgur.com/AlTnu1k.png)"
      ],
      "metadata": {
        "id": "2uLR5sbKIov2"
      }
    },
    {
      "cell_type": "code",
      "source": [
        "# 入力用\n",
        "n=int(input('n='))\n",
        "\n",
        "\n",
        "for i in range(1,2*n):\n",
        "\n",
        "  if(i<n):\n",
        "    print(\" \"*(n-i) + \"*\"*(2*i-1) + \" \"*(2*n-2*i-1) + \"*\"*(2*i-1))\n",
        "\n",
        "  elif(i==n):\n",
        "    print(\"*\"*(2*(2*n-1)-1))\n",
        "\n",
        "  elif(i<2*n):\n",
        "    print(\" \"*(i-n) + \"*\"*(4*n-2*i-1) + \" \"*(2*i-2*n-1) + \"*\"*(4*n-2*i-1))\n",
        "\n",
        "for i in range(2,2*n):\n",
        "\n",
        "  if(i<n):\n",
        "    print(\" \"*(n-i) + \"*\"*(2*i-1) + \" \"*(2*n-2*i-1) + \"*\"*(2*i-1))\n",
        "\n",
        "  elif(i==n):\n",
        "    print(\"*\"*(2*(2*n-1)-1))\n",
        "\n",
        "  elif(i<2*n):\n",
        "    print(\" \"*(i-n) + \"*\"*(4*n-2*i-1) + \" \"*(2*i-2*n-1) + \"*\"*(4*n-2*i-1))\n",
        "  "
      ],
      "metadata": {
        "id": "TXJaIVbYI_Cd",
        "outputId": "6b1f7273-d070-4748-f04b-eb4cad30443d",
        "colab": {
          "base_uri": "https://localhost:8080/"
        }
      },
      "execution_count": 137,
      "outputs": [
        {
          "output_type": "stream",
          "name": "stdout",
          "text": [
            "n=8\n",
            "       *             *\n",
            "      ***           ***\n",
            "     *****         *****\n",
            "    *******       *******\n",
            "   *********     *********\n",
            "  ***********   ***********\n",
            " ************* *************\n",
            "*****************************\n",
            " ************* *************\n",
            "  ***********   ***********\n",
            "   *********     *********\n",
            "    *******       *******\n",
            "     *****         *****\n",
            "      ***           ***\n",
            "       *             *\n",
            "      ***           ***\n",
            "     *****         *****\n",
            "    *******       *******\n",
            "   *********     *********\n",
            "  ***********   ***********\n",
            " ************* *************\n",
            "*****************************\n",
            " ************* *************\n",
            "  ***********   ***********\n",
            "   *********     *********\n",
            "    *******       *******\n",
            "     *****         *****\n",
            "      ***           ***\n",
            "       *             *\n"
          ]
        }
      ]
    }
  ]
}