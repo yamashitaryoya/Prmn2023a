{
  "nbformat": 4,
  "nbformat_minor": 0,
  "metadata": {
    "colab": {
      "provenance": [],
      "authorship_tag": "ABX9TyOncjM+BhKZXmBk2yk++ANF",
      "include_colab_link": true
    },
    "kernelspec": {
      "name": "python3",
      "display_name": "Python 3"
    },
    "language_info": {
      "name": "python"
    }
  },
  "cells": [
    {
      "cell_type": "markdown",
      "metadata": {
        "id": "view-in-github",
        "colab_type": "text"
      },
      "source": [
        "<a href=\"https://colab.research.google.com/github/kiryu-3/Prmn2023_mng/blob/main/Python/Python_Basic/answer/PythonBasic_3_Answer.ipynb\" target=\"_parent\"><img src=\"https://colab.research.google.com/assets/colab-badge.svg\" alt=\"Open In Colab\"/></a>"
      ]
    },
    {
      "cell_type": "markdown",
      "source": [
        "# 第3章 課題 解答例"
      ],
      "metadata": {
        "id": "-OWFkfy8PTTk"
      }
    },
    {
      "cell_type": "code",
      "source": [
        "# datetimeモジュールのdatetimeクラスを取り込む\n",
        "from datetime import datetime\n",
        "# 地名に\"東京\"を指定するためにインポート\n",
        "from pytz import timezone\n",
        "\n",
        "# 曜日を漢字で表示するため（0 → 月曜日... 6 → 日曜日）\n",
        "youbi = \"月火水木金土日\"\n",
        "\n",
        "# 東京の時間を取得\n",
        "today = datetime.now(timezone(\"Asia/Tokyo\"))\n",
        "\n",
        "# 年月日\n",
        "year = today.year\n",
        "month = today.month\n",
        "day = today.day\n",
        " \n",
        "# 曜日を0～6で取得（0が月曜日）\n",
        "weekday = today.weekday()\n",
        " \n",
        "# 時分秒\n",
        "hour = today.hour\n",
        "minute = today.minute\n",
        "second = today.second"
      ],
      "metadata": {
        "id": "EqrebLkgRvDe"
      },
      "execution_count": 1,
      "outputs": []
    },
    {
      "cell_type": "markdown",
      "source": [
        "## 課題1"
      ],
      "metadata": {
        "id": "QI1-J0-kPaNC"
      }
    },
    {
      "cell_type": "markdown",
      "source": [
        "以下表のように出力できるようにしてください"
      ],
      "metadata": {
        "id": "3mgyyeyr5R9S"
      }
    },
    {
      "cell_type": "markdown",
      "source": [
        "|時間帯|出力|\n",
        "|:---| :--- |\n",
        "|3時～9時|「おはよう！」と出力|\n",
        "|10時～17時|「こんにちは！」と出力|\n",
        "|18時～21時|「こんばんは！」と出力|\n",
        "|22時～2時|「おやすみ！」と出力|"
      ],
      "metadata": {
        "id": "NOwXE0i2PfeI"
      }
    },
    {
      "cell_type": "code",
      "execution_count": 2,
      "metadata": {
        "id": "NwDZT-i-2Eq8",
        "outputId": "83844913-6f27-4147-ceba-570a5e487ef4",
        "colab": {
          "base_uri": "https://localhost:8080/"
        }
      },
      "outputs": [
        {
          "output_type": "stream",
          "name": "stdout",
          "text": [
            "こんにちは\n"
          ]
        }
      ],
      "source": [
        "# 時間帯によりメッセージを変えて表示\n",
        "if hour >= 3 and hour <= 9:      # 3時から9時まで\n",
        "    print(\"おはよう\")\n",
        "elif hour >= 10 and hour <= 17:  # 10時から17時まで\n",
        "    print(\"こんにちは\")\n",
        "elif hour >= 18 and hour <=21:   # 18時から21時まで\n",
        "    print(\"こんばんは\")\n",
        "else:                            # 22時から2時まで\n",
        "    print(\"おやすみ\")"
      ]
    },
    {
      "cell_type": "markdown",
      "source": [
        "## 課題2"
      ],
      "metadata": {
        "id": "Ak-ccq1L8zhG"
      }
    },
    {
      "cell_type": "markdown",
      "source": [
        "以下表のように出力できるようにしてください"
      ],
      "metadata": {
        "id": "UfExmq0-84Xk"
      }
    },
    {
      "cell_type": "markdown",
      "source": [
        "|月|出力|\n",
        "|:---| :--- |\n",
        "|3月～5月|「春です」と出力|\n",
        "|6月～8月|「夏です」と出力|\n",
        "|9月～11月|「秋です」と出力|\n",
        "|12月～2月|「冬です」と出力|"
      ],
      "metadata": {
        "id": "ocoquzS79XKL"
      }
    },
    {
      "cell_type": "code",
      "source": [
        "# 月によりメッセージを変えて表示\n",
        "if month >= 3 and month <= 5:     # 3月から5月まで\n",
        "  print(\"春です\")\n",
        "elif month >= 6 and month <= 8:   # 6月から8月まで\n",
        "  print(\"夏です\")\n",
        "elif month >= 9 and month <= 11:  # 9月から11月まで\n",
        "  print(\"秋です\")\n",
        "else:                             # 12月から2月まで\n",
        "  print(\"冬です\")"
      ],
      "metadata": {
        "id": "gI9M4zjmGTP8",
        "outputId": "f5e41c29-0629-4985-8d9a-f4e22325603b",
        "colab": {
          "base_uri": "https://localhost:8080/"
        }
      },
      "execution_count": 3,
      "outputs": [
        {
          "output_type": "stream",
          "name": "stdout",
          "text": [
            "冬です\n"
          ]
        }
      ]
    },
    {
      "cell_type": "markdown",
      "source": [
        "## 課題3"
      ],
      "metadata": {
        "id": "IAJVuG9a90Mb"
      }
    },
    {
      "cell_type": "markdown",
      "source": [
        "任意の誕生日を指定して、年齢を出力できるようにしてください"
      ],
      "metadata": {
        "id": "3cFktbXK93vr"
      }
    },
    {
      "cell_type": "markdown",
      "source": [
        "＜例＞ 1998年4月1日生まれの場合  \n",
        "`Chitoseは24歳です` "
      ],
      "metadata": {
        "id": "Bx_WGFCq-UWZ"
      }
    },
    {
      "cell_type": "code",
      "source": [
        "# 解答例\n",
        "birth_year = 1998\n",
        "birth_month = 4\n",
        "birth_day = 1\n",
        "\n",
        "birth = datetime(year=birth_year , month=birth_month , day=birth_day)  # 新しく生成\n",
        "birth = birth.astimezone(timezone(\"Asia/Tokyo\"))  # 比較する関係で必要\n",
        "\n",
        "age = year - birth_year\n",
        "\n",
        "this_year_date = datetime(year=year , month=birth_month , day=birth_day)  # 誕生年を今年に置き換える\n",
        "this_year_date = this_year_date.astimezone(timezone(\"Asia/Tokyo\"))  # 比較する関係で必要\n",
        "\"\"\"\n",
        "replaceメソッドを使うとよりシンプルです\n",
        "this_year_date = birth.replace(year=year)  # 誕生年を今年に置き換える\n",
        "\"\"\"\n",
        "if today < this_year_date:  # 誕生日を迎えているかを調べる\n",
        "  age -= 1\n",
        "\n",
        "print(f\"Chitoseは{age}歳です\")"
      ],
      "metadata": {
        "id": "7ScZ-oLm2Eq8",
        "outputId": "f1a4f22d-9827-4d5e-ebb8-86322a3917b2",
        "colab": {
          "base_uri": "https://localhost:8080/"
        }
      },
      "execution_count": 4,
      "outputs": [
        {
          "output_type": "stream",
          "name": "stdout",
          "text": [
            "Chitoseは24歳です\n"
          ]
        }
      ]
    },
    {
      "cell_type": "code",
      "source": [
        "# 別解\n",
        "birth_year = 1998\n",
        "birth_month = 4\n",
        "birth_day = 1\n",
        "\n",
        "birth = datetime(year=birth_year , month=birth_month , day=birth_day)  # 新しく生成\n",
        "birth = birth.astimezone(timezone(\"Asia/Tokyo\"))  # 比較する関係で必要\n",
        "\n",
        "age = year - birth_year\n",
        "\n",
        "# 月単位での比較\n",
        "if month < birth_month:\n",
        "  age -= 1\n",
        "elif month == birth_month:\n",
        "  # 日単位での比較\n",
        "  if day < birth_day:\n",
        "    age -= 1\n",
        "\n",
        "print(f\"Chitoseは{age}歳です\")"
      ],
      "metadata": {
        "id": "37Pm3f1PQrO8",
        "outputId": "8e8d055e-cba5-425b-82cb-af637499e0b5",
        "colab": {
          "base_uri": "https://localhost:8080/"
        }
      },
      "execution_count": 5,
      "outputs": [
        {
          "output_type": "stream",
          "name": "stdout",
          "text": [
            "Chitoseは24歳です\n"
          ]
        }
      ]
    }
  ]
}
