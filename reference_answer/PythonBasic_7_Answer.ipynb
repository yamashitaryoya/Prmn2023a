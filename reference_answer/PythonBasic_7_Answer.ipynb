{
  "nbformat": 4,
  "nbformat_minor": 0,
  "metadata": {
    "colab": {
      "provenance": []
    },
    "kernelspec": {
      "name": "python3",
      "display_name": "Python 3"
    },
    "language_info": {
      "name": "python"
    }
  },
  "cells": [
    {
      "cell_type": "markdown",
      "metadata": {
        "id": "view-in-github"
      },
      "source": [
        "<a href=\"https://colab.research.google.com/github/kiryu-3/Prmn2023_mng/blob/main/Python/Python_Basic/answer/PythonBasic_7_Answer.ipynb\" target=\"_parent\"><img src=\"https://colab.research.google.com/assets/colab-badge.svg\" alt=\"Open In Colab\"/></a>"
      ]
    },
    {
      "cell_type": "markdown",
      "source": [
        "# 第7章 課題 解答例"
      ],
      "metadata": {
        "id": "JR-0wWX5GOz4"
      }
    },
    {
      "cell_type": "markdown",
      "source": [
        "## 課題1"
      ],
      "metadata": {
        "id": "a-2Yu9QBGREf"
      }
    },
    {
      "cell_type": "markdown",
      "source": [
        "`ppap.txt`をアップロードしてください。  \n",
        "\n",
        "ピコ太郎さんの「PPAP」という歌の歌詞が書かれています。  \n",
        "まずはこのテキストファイルから歌詞を読み込んでください。"
      ],
      "metadata": {
        "id": "icanGSBB6KCB"
      }
    },
    {
      "cell_type": "markdown",
      "source": [
        "歌詞の単語の登場回数を数え、  \n",
        "出現回数の多い順にソートしたディクショナリを関数で返してください\n",
        "\n",
        "その後、そのディクショナリを出力してください"
      ],
      "metadata": {
        "id": "Wy8Sx90f6WTB"
      }
    },
    {
      "cell_type": "markdown",
      "source": [
        "＜実行結果＞  \n",
        "``` py\n",
        "{'pen': 8, 'i': 4, 'have': 4, 'apple': 4, 'pineapple': 4, 'a': 3, 'ppap': 1, 'an': 1}\n",
        "```"
      ],
      "metadata": {
        "id": "0Z2-_1dAQENU"
      }
    },
    {
      "cell_type": "code",
      "execution_count": 5,
      "metadata": {
        "colab": {
          "base_uri": "https://localhost:8080/"
        },
        "id": "eF9rMOKc2iGt",
        "outputId": "f5920242-30f0-4d65-96b5-a40282180cb3"
      },
      "outputs": [
        {
          "output_type": "stream",
          "name": "stdout",
          "text": [
            "PPAP\n",
            "I have a pen.\n",
            "I have an apple.\n",
            "Apple pen！\n",
            "I have a pen.\n",
            "I have a pineapple.\n",
            "Pineapple pen！\n",
            "Apple pen.\n",
            "Pineapple pen.\n",
            "Pen-pineapple-Apple-pen！\n"
          ]
        }
      ],
      "source": [
        "# 解答例（テキスト読み込み）\n",
        "with open(\"ppap.txt\",mode=\"r+\") as f:\n",
        " line = f.readline()\n",
        " text = line\n",
        " \n",
        " # ファイルの中のテキストがなくなるまで読み込み\n",
        " while line:\n",
        "  line = f.readline()\n",
        "  text += line\n",
        "\n",
        "print(text)"
      ]
    },
    {
      "cell_type": "code",
      "source": [
        "# 別解（テキスト読み込み）\n",
        "with open(\"ppap.txt\",mode=\"r+\") as f:\n",
        " lines = f.read().splitlines()\n",
        " \n",
        "text = ' '.join(lines)\n",
        "print(text)"
      ],
      "metadata": {
        "colab": {
          "base_uri": "https://localhost:8080/"
        },
        "id": "O8HcfN3i6wWI",
        "outputId": "2795b97f-7484-4e8b-b42c-eb081883d6ca"
      },
      "execution_count": 6,
      "outputs": [
        {
          "output_type": "stream",
          "name": "stdout",
          "text": [
            "PPAP I have a pen. I have an apple. Apple pen！ I have a pen. I have a pineapple. Pineapple pen！ Apple pen. Pineapple pen. Pen-pineapple-Apple-pen！\n"
          ]
        }
      ]
    },
    {
      "cell_type": "code",
      "source": [
        "# 解答例（カウントとメイン部分）\n",
        "import string\n",
        "\n",
        "def word_count(text):\n",
        "\n",
        "  # 「！」を空文字に置き換える\n",
        "  text = text.replace('！', '')\n",
        "  # 「-」を空白に置き換える\n",
        "  text = text.replace('-', ' ')\n",
        "  # 特殊文字を除去する\n",
        "  text = text.translate(str.maketrans('', '', string.punctuation))\n",
        "\n",
        "  # 単語を小文字に変換し、「改行・空白」で文字列を分割する\n",
        "  words = text.lower().split()\n",
        "\n",
        "  # 単語の出現回数をカウントする\n",
        "  counts = {}\n",
        "  for word in words:\n",
        "    counts[word] = counts.get(word, 0) + 1\n",
        "\n",
        "  # 出現回数が多い順にソートする\n",
        "  freqs = sorted(counts.values(), reverse=True)\n",
        "  sorted_counts = {}\n",
        "  for freq in freqs:\n",
        "    for key in counts.keys():\n",
        "      if  counts[key] == freq:\n",
        "          sorted_counts[key] = freq\n",
        "\n",
        "  # 結果を表示する\n",
        "  return sorted_counts\n",
        "\n",
        "sorted_dic = word_count(text)\n",
        "print(sorted_dic)"
      ],
      "metadata": {
        "colab": {
          "base_uri": "https://localhost:8080/"
        },
        "id": "Jdo8-1AG5cx7",
        "outputId": "6e6755ce-4bde-4fe5-8536-6c134dc896e8"
      },
      "execution_count": null,
      "outputs": [
        {
          "output_type": "stream",
          "name": "stdout",
          "text": [
            "{'pen': 8, 'i': 4, 'have': 4, 'apple': 4, 'pineapple': 4, 'a': 3, 'ppap': 1, 'an': 1}\n"
          ]
        }
      ]
    },
    {
      "cell_type": "code",
      "source": [
        "# 別解（カウントとメイン部分）\n",
        "import string\n",
        "\n",
        "def word_count(text):\n",
        "\n",
        "  # 「！」を空文字に置き換える\n",
        "  text = text.replace('！', '')\n",
        "  # 「-」を空白に置き換える\n",
        "  text = text.replace('-', ' ')\n",
        "  # 特殊文字を除去する\n",
        "  text = text.translate(str.maketrans('', '', string.punctuation))\n",
        "\n",
        "  # 単語を小文字に変換し、「改行・空白」で文字列を分割する\n",
        "  words = text.lower().split()\n",
        "\n",
        "  # 単語の出現回数をカウントする\n",
        "  counts = {}\n",
        "  for word in words:\n",
        "    counts[word] = counts.get(word, 0) + 1\n",
        "\n",
        "  # 出現回数が多い順にソートする\n",
        "  sorted_counts = {}\n",
        "\n",
        "  for name in sorted(counts, key=counts.get, reverse=True):\n",
        "    sorted_counts[name] = counts[name]          \n",
        "\n",
        "  # 結果を表示する\n",
        "  return sorted_counts\n",
        "\n",
        "sorted_dic = word_count(text)\n",
        "print(sorted_dic)"
      ],
      "metadata": {
        "colab": {
          "base_uri": "https://localhost:8080/"
        },
        "id": "91nB3hlH7iHA",
        "outputId": "3131dfed-440c-471b-9b80-a84f4436d360"
      },
      "execution_count": null,
      "outputs": [
        {
          "output_type": "stream",
          "name": "stdout",
          "text": [
            "{'pen': 8, 'i': 4, 'have': 4, 'apple': 4, 'pineapple': 4, 'a': 3, 'ppap': 1, 'an': 1}\n"
          ]
        }
      ]
    },
    {
      "cell_type": "markdown",
      "source": [
        "## 課題2"
      ],
      "metadata": {
        "id": "dSQu_cY6EpMk"
      }
    },
    {
      "cell_type": "markdown",
      "source": [
        "`toukei_seiseki.txt`をアップロードしてください。 \n",
        "\n",
        "とある人の統計学の成績データになります。"
      ],
      "metadata": {
        "id": "b-ekHtnVEwsO"
      }
    },
    {
      "cell_type": "markdown",
      "source": [
        "成績評価を0~5の6段階でつけたいものとします。  \n",
        "\n",
        "|成績|点数|\n",
        "|:---| :--- |\n",
        "|$A$|5|\n",
        "|$B^{+}$|4|\n",
        "|$B$|3|\n",
        "|$B^{-}$|2|\n",
        "|$C^{+}$|1|\n",
        "|$C$|0|\n"
      ],
      "metadata": {
        "id": "bIsZE1q0vwyd"
      }
    },
    {
      "cell_type": "markdown",
      "source": [
        "上表のように成績を変換する関数を作成してください  "
      ],
      "metadata": {
        "id": "g8y7FrrIM0XM"
      }
    },
    {
      "cell_type": "markdown",
      "source": [
        "この科目は、「5×全15回=最大点75点」に、  \n",
        "「全14回×50点=最大点700点を25点に圧縮したもの」の和によって成績判定を行います。"
      ],
      "metadata": {
        "id": "sGR63Lq9M3QE"
      }
    },
    {
      "cell_type": "markdown",
      "source": [
        "適切に関数を使い、以下のデータの成績評価を行えるようにしてください\n",
        "\n",
        "\n"
      ],
      "metadata": {
        "id": "i9d5cECuwYJU"
      }
    },
    {
      "cell_type": "markdown",
      "source": [
        "＜例＞  \n",
        "小テストの合計点は600点だったので25点満点に圧縮すると21.42点  \n",
        "課題は全て$B^+$評価だったので4×15=60点  \n",
        "合計点81.42点なので評定は「優」"
      ],
      "metadata": {
        "id": "KJB5H4Xsaj0g"
      }
    },
    {
      "cell_type": "code",
      "source": [
        "# 解答例\n",
        "def text_read():\n",
        "  with open(\"toukei_seiseki.txt\",mode=\"r+\") as f:\n",
        "    lines = f.read().splitlines()\n",
        "\n",
        "\n",
        "  for i in range(2,len(lines)):\n",
        "    kadai = lines[i].split(\"\\t\")[1]\n",
        "    if lines[i].split(\"\\t\")[2] != \"\" :\n",
        "      test = lines[i].split(\"\\t\")[2]\n",
        "    else:\n",
        "      test = \"0\"\n",
        "    seiseki_data[\"課題\"].append(kadai)\n",
        "    seiseki_data[\"小テスト\"].append(int(test))\n",
        "\n",
        "def henkan():\n",
        "  henkan_data = []\n",
        "  for kadai in seiseki_data[\"課題\"] :\n",
        "    kadai = kadai.replace(\"A\",\"5\").replace(\"B-\",\"2\").replace(\"B+\", \"4\").replace(\"B\",\"3\").replace(\"C+\",\"1\").replace(\"C\",\"0\")\n",
        "    henkan_data.append(int(kadai))\n",
        "\n",
        "  return henkan_data\n",
        "\n",
        "def assyuku():\n",
        "  return sum(seiseki_data[\"小テスト\"])*25/700\n",
        "\n",
        "\n",
        "seiseki_data = {\"課題\":[],\"小テスト\":[]}\n",
        "\n",
        "text_read()\n",
        "henkan_data = henkan()\n",
        "assyuku_point = assyuku()\n",
        "print(f\"合計点は{round(sum(henkan_data) + assyuku_point,2)}点です\")  # ギリギリ秀デスネ"
      ],
      "metadata": {
        "colab": {
          "base_uri": "https://localhost:8080/"
        },
        "id": "yrDadDB9s-wc",
        "outputId": "fbd8d00c-d18e-4c3b-b56c-9facbd85969c"
      },
      "execution_count": null,
      "outputs": [
        {
          "output_type": "stream",
          "name": "stdout",
          "text": [
            "合計点は91.61点です\n"
          ]
        }
      ]
    },
    {
      "cell_type": "markdown",
      "source": [
        "## 課題3"
      ],
      "metadata": {
        "id": "ImanFioRIU6F"
      }
    },
    {
      "cell_type": "markdown",
      "source": [
        "`all_seiseki.txt`をアップロードしてください。 \n",
        "\n",
        "とある人の2年春学期までの成績データになります。"
      ],
      "metadata": {
        "id": "9Q_HBLgfIXVf"
      }
    },
    {
      "cell_type": "markdown",
      "source": [
        "GPAを計算したいものとします。  \n",
        "成績に付与されるGPは以下の通りです。\n",
        "\n",
        "|成績|GP|\n",
        "|:---| :--- |\n",
        "|秀|4|\n",
        "|優|3|\n",
        "|良|2|\n",
        "|可|1|\n",
        "|不可|0|"
      ],
      "metadata": {
        "id": "wimEVJZUMWoL"
      }
    },
    {
      "cell_type": "markdown",
      "source": [
        "上表のように成績を変換する関数を作成してください "
      ],
      "metadata": {
        "id": "vLfMefKLNZsq"
      }
    },
    {
      "cell_type": "markdown",
      "source": [
        "GPAの計算式は以下の通りです。  \n",
        "$$\n",
        "GPA = \\frac{(GP×そのGPの単位数) の合計}{履修単位数} \n",
        "$$"
      ],
      "metadata": {
        "id": "pJ-Cltm9NbZ6"
      }
    },
    {
      "cell_type": "markdown",
      "source": [
        "適切に関数を使い、テキストデータのGPAを算出してください"
      ],
      "metadata": {
        "id": "k_jm9pzkOFAw"
      }
    },
    {
      "cell_type": "code",
      "source": [
        "# 解答例\n",
        "def text_read():\n",
        "  with open(\"all_seiseki.txt\",mode=\"r+\") as f:\n",
        "    lines = f.read().splitlines() \n",
        "\n",
        "  for i in range(1,len(lines)):\n",
        "    kamoku = lines[i].split(\"\\t\")[3]\n",
        "    score = lines[i].split(\"\\t\")[4]\n",
        "\n",
        "    seiseki2_data[\"授業\"].append(kamoku)\n",
        "    seiseki2_data[\"成績\"].append(score)\n",
        "\n",
        "    if lines[i].split(\"\\t\")[5] == \"1\":\n",
        "      one_unit_class.append(kamoku)\n",
        "\n",
        "\n",
        "def henkan():\n",
        "  henkan_data = []\n",
        "  for seiseki in seiseki_data[\"成績\"]:\n",
        "    seiseki = seiseki.replace(\"秀\",\"4\").replace(\"優\",\"3\").replace(\"良\",\"2\").replace(\"可\",\"1\").replace(\"不可\",\"0\")\n",
        "    henkan_data.append(int(seiseki))\n",
        "\n",
        "  return henkan_data\n",
        "\n",
        "def goukei():\n",
        "  sum = 0\n",
        "  tani = 0\n",
        "  for i,kamoku in  enumerate(seiseki_data[\"授業\"]):\n",
        "    if not kamoku in one_unit_class:\n",
        "      sum += 2*henkan_data[i]\n",
        "      tani += 2\n",
        "    else:\n",
        "      sum += henkan_data[i]\n",
        "      tani += 1\n",
        "  return sum,tani\n",
        "\n",
        "seiseki2_data = {\"授業\":[],\"成績\":[]}\n",
        "\n",
        "one_unit_class = []\n",
        "\n",
        "text_read()\n",
        "henkan_data = henkan()\n",
        "goukei_point,goukei_tani = goukei()\n",
        "print(f\"GPAは{round(goukei_point/goukei_tani,3)}です\")  # 四捨五入"
      ],
      "metadata": {
        "colab": {
          "base_uri": "https://localhost:8080/"
        },
        "id": "iQLbRm4N5Ku7",
        "outputId": "8fe066a6-32d4-46f3-d7a4-05dfd5c786f9"
      },
      "execution_count": null,
      "outputs": [
        {
          "output_type": "stream",
          "name": "stdout",
          "text": [
            "GPAは3.262です\n"
          ]
        }
      ]
    }
  ]
}
