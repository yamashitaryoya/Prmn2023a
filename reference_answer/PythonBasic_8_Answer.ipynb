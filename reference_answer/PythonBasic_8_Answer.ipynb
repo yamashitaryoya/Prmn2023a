{
  "nbformat": 4,
  "nbformat_minor": 0,
  "metadata": {
    "colab": {
      "provenance": []
    },
    "kernelspec": {
      "name": "python3",
      "display_name": "Python 3"
    },
    "language_info": {
      "name": "python"
    }
  },
  "cells": [
    {
      "cell_type": "markdown",
      "source": [
        "# オブジェクト指向1 課題 解答例"
      ],
      "metadata": {
        "id": "jQqGrJNkuFDD"
      }
    },
    {
      "cell_type": "markdown",
      "source": [
        "## 課題1"
      ],
      "metadata": {
        "id": "1DGEULJlZLkL"
      }
    },
    {
      "cell_type": "markdown",
      "source": [
        "以下の要件を満たすクラスを作成してください"
      ],
      "metadata": {
        "id": "he1ry54qZP56"
      }
    },
    {
      "cell_type": "markdown",
      "source": [
        "**指示**\n",
        "\n",
        "・ moveメソッド内で「歩いたよ」と出力するInsectクラスを作る  \n",
        "・ moveメソッド内で「飛んだよ」と出力するButterflyクラスを作る     \n",
        "・ moveメソッド内で「跳んだよ」と出力するLocustクラスを作る   \n",
        "・ moveメソッド内で「綺麗に飛んだよ」と出力するSwallowtailButterflyクラスを作る  \n",
        "\n",
        "\n",
        "\n"
      ],
      "metadata": {
        "id": "PkJ0b9znZUMi"
      }
    },
    {
      "cell_type": "markdown",
      "source": [
        "4つのクラスのインスタンスをリストinsect_listに格納してください。  \n",
        "その後、格納した4つのインスタンスからmoveメソッドを呼び出してください。"
      ],
      "metadata": {
        "id": "MOz_aUO4cj-9"
      }
    },
    {
      "cell_type": "code",
      "execution_count": 1,
      "metadata": {
        "id": "VNR7bbMwuDvB"
      },
      "outputs": [],
      "source": [
        "class Insect:\n",
        "  def move(self):\n",
        "    print(\"歩いたよ\")\n",
        "\n",
        "class Butterfly:\n",
        "  def move(self):\n",
        "    print(\"飛んだよ\")\n",
        "\n",
        "class Locust:\n",
        "  def move(self):\n",
        "    print(\"跳んだよ\")\n",
        "\n",
        "class SwallowtailButterfly:\n",
        "  def move(self):\n",
        "    print(\"綺麗に飛んだよ\")"
      ]
    },
    {
      "cell_type": "code",
      "source": [
        "InsectList = []\n",
        "\n",
        "InsectList.append(Insect())\n",
        "InsectList.append(Butterfly())\n",
        "InsectList.append(Locust())\n",
        "InsectList.append(SwallowtailButterfly())\n",
        "\n",
        "for insect in InsectList:\n",
        "  insect.move()"
      ],
      "metadata": {
        "colab": {
          "base_uri": "https://localhost:8080/"
        },
        "id": "wyCWp1tsxxIC",
        "outputId": "8360b4de-8a42-4b2c-bf86-601257339efa"
      },
      "execution_count": 2,
      "outputs": [
        {
          "output_type": "stream",
          "name": "stdout",
          "text": [
            "歩いたよ\n",
            "飛んだよ\n",
            "跳んだよ\n",
            "綺麗に飛んだよ\n"
          ]
        }
      ]
    },
    {
      "cell_type": "markdown",
      "source": [
        "## 課題2\n",
        "\n"
      ],
      "metadata": {
        "id": "sxV6gRm8djFh"
      }
    },
    {
      "cell_type": "markdown",
      "source": [
        "以下の要件を満たすクラスを作成してください"
      ],
      "metadata": {
        "id": "AXc3PV3ddkyJ"
      }
    },
    {
      "cell_type": "markdown",
      "source": [
        "**指示**\n",
        "\n",
        "・ クラス名は Car、属性として変数fuelを持つ  \n",
        "\n",
        "・ 引数なしコンストラクタでfuelを0で初期化する \n",
        "\n",
        "・ メソッドとして戻り値、引数無しのrun() を持つ \n",
        "\n",
        "・ run()メソッドではfuelを1消費して、走ったことが分かる文言を表示させる  \n",
        "     \t  　(例:  \"燃料を1消費して走りました。\") \n",
        "\t\t\t\t  \n",
        "・ fuelが0以下の時走れなかったことが分かる文言を表示させる\n",
        "        \n",
        "\n",
        "\n"
      ],
      "metadata": {
        "id": "kvvx9u5Kdh8i"
      }
    },
    {
      "cell_type": "markdown",
      "source": [
        "Carに給油をするGasStationクラスを作成してください    \n",
        "\n",
        "・ クラス名はGasStation、コンストラクタ無し\n",
        "\n",
        "・ refuel()メソッドを持つ  \n",
        "\n",
        "・ refuel()ではCarのfuelを20増やす  \n",
        "\n",
        "・ refuel()では給油したことが分かる文言を表示する"
      ],
      "metadata": {
        "id": "SZD3JsY_dUZc"
      }
    },
    {
      "cell_type": "markdown",
      "source": [
        "CarとGasStationをインスタンス化し、  \n",
        "GasStationで給油をする前と後でCarのrun()を呼び出してください"
      ],
      "metadata": {
        "id": "mtvFz04Dc4bl"
      }
    },
    {
      "cell_type": "markdown",
      "source": [
        "＜実行結果例＞\n",
        "\n",
        "```\n",
        "燃料が足りないため走れませんでした。\n",
        "給油したことによりfuelが20増えました。\n",
        "燃料を1消費して走りました。\n",
        "```"
      ],
      "metadata": {
        "id": "RNXwj-VBeFPQ"
      }
    },
    {
      "cell_type": "code",
      "source": [
        "class Car:\n",
        "  def __init__(self):\n",
        "    self.fuel = 0\n",
        "\n",
        "  def run(self):\n",
        "    if self.fuel <= 0:\n",
        "      print(\"燃料が足りないため走れませんでした。\")\n",
        "\n",
        "    else :\n",
        "      print(\"燃料を1消費して走りました。\")\n",
        "      self.fuel -= 1"
      ],
      "metadata": {
        "id": "h-VWN0IjyGoU"
      },
      "execution_count": null,
      "outputs": []
    },
    {
      "cell_type": "code",
      "source": [
        "class GasStation:\n",
        "  def refuel(self, car):\n",
        "    self.fuel = 20\n",
        "    car.fuel += self.fuel\n",
        "    print(f\"給油したことにより、fuelが{self.fuel}増えました。\") "
      ],
      "metadata": {
        "id": "FW3nv-aEyIka"
      },
      "execution_count": null,
      "outputs": []
    },
    {
      "cell_type": "code",
      "source": [
        "car = Car()\n",
        "gasstation = GasStation()\n",
        "\n",
        "car.run()\n",
        "gasstation.refuel(car)\n",
        "car.run()"
      ],
      "metadata": {
        "colab": {
          "base_uri": "https://localhost:8080/"
        },
        "id": "zYwJjdTPyKqa",
        "outputId": "4b344a82-3497-435e-f9c4-20908a2a26f3"
      },
      "execution_count": null,
      "outputs": [
        {
          "output_type": "stream",
          "name": "stdout",
          "text": [
            "燃料が足りないため走れませんでした。\n",
            "給油したことにより、fuelが20増えました。\n",
            "燃料を1消費して走りました。\n"
          ]
        }
      ]
    },
    {
      "cell_type": "markdown",
      "source": [
        "## 課題3"
      ],
      "metadata": {
        "id": "GCHVpQ4aV_UR"
      }
    },
    {
      "cell_type": "markdown",
      "source": [
        "以下の要件を満たすクラスを作成してください"
      ],
      "metadata": {
        "id": "ECrnt9e5WJSc"
      }
    },
    {
      "cell_type": "markdown",
      "source": [
        "**指示**\n",
        "\n",
        "口座情報を管理するAccountクラスを作成してください  \n",
        "\n",
        "・ name（名前）, number（口座番号）, balance（残高）を属性にもつ  \n",
        "\n",
        "・ コンストラクタでは、balanceを0で初期化する\n",
        "\n"
      ],
      "metadata": {
        "id": "SA6Tbw_lXehC"
      }
    },
    {
      "cell_type": "markdown",
      "source": [
        "銀行でのお金のやり取りを行うATMクラスを作成してください  \n",
        "\n",
        "・ ATMのコンストラクタでAccountのインスタンスを管理するaccountsを初期化する \n",
        "\n",
        "・ register_account()メソッドではアカウントを登録する    \n",
        " 　 この中でAccountクラスをnameとnubmerを引数としてインスタンス化する  \n",
        "\n",
        "・ exists_account()メソッドは引数のnameとnumberから    \n",
        "   　 accountsに存在するかどうかをbooleanで返す  \n",
        "\n",
        "・ deposit()メソッドでは引数のmoneyを使って入金を行う  \n",
        "\n",
        "・ withdraw()メソッドでは引数のmoneyを使って引出を行う    \n",
        " 　 残高が足りないときには行えないようにする\n",
        "        \n"
      ],
      "metadata": {
        "id": "M2FE_MUndc4z"
      }
    },
    {
      "cell_type": "markdown",
      "source": [
        "それぞれ何か行うたびに、何をしたか分かるように標準出力で表示するようにしてください"
      ],
      "metadata": {
        "id": "-tmD0hewdiS1"
      }
    },
    {
      "cell_type": "markdown",
      "source": [
        "＜実行結果例＞\n",
        "\n",
        "```\n",
        "名前:千歳太郎 口座番号:12345 は存在しません。\n",
        "千歳太郎 さんのアカウントを口座番号:12345 で登録しました。\n",
        "名前:千歳太郎 口座番号:12345 は存在します。\n",
        "口座番号:12345 に1000 円入金しました。\n",
        "口座番号:12345 から2000 円引き出せませんでした。残高:1000 円です。\n",
        "口座番号:12345 から500 円引き出しました。残高:500 円です。\n",
        "```"
      ],
      "metadata": {
        "id": "0zUHE9eHe5-Z"
      }
    },
    {
      "cell_type": "code",
      "source": [
        "class Account:\n",
        "  def __init__(self, name, number):\n",
        "    self.name = name\n",
        "    self.number = number\n",
        "    self.balance = 0"
      ],
      "metadata": {
        "id": "j2SMPNklySoy"
      },
      "execution_count": null,
      "outputs": []
    },
    {
      "cell_type": "code",
      "source": [
        "class ATM:\n",
        "  def __init__(self):\n",
        "    self.accounts = []\n",
        "\n",
        "  # 登録\n",
        "  def register_account(self, name, number):\n",
        "    self.accounts.append(Account(name, number))\n",
        "    print(f\"{name} さんのアカウントを口座番号:{number} で登録しました。\")\n",
        "\n",
        "  # アカウントの存在確認\n",
        "  def exists_account(self, name, number):\n",
        "    for account in self.accounts:\n",
        "      if account.name==name and  account.number==number:\n",
        "        print(f\"名前:{name} 口座番号:{number} は存在します。\")\n",
        "        return True\n",
        "\n",
        "    print(f\"名前:{name} 口座番号:{number} は存在しません。\")\n",
        "    return False\n",
        "\n",
        "  # 入金\n",
        "  def deposit(self, number, money):\n",
        "    for account in self.accounts:\n",
        "      if account.number == number:\n",
        "        account.balance += money\n",
        "        print(f\"口座番号:{number} に{money} 円入金しました。\")\n",
        "        return\n",
        "\n",
        "    print(f\"口座番号:{number}は存在しませんでした。\")\n",
        "\n",
        "  # 引き出し\n",
        "  def withdraw(self, number, money):\n",
        "    for account in self.accounts:\n",
        "      if account.number == number:\n",
        "        \n",
        "        if account.balance - money < 0:\n",
        "          print(f\"口座番号:{number} から{money} 円引き出せませんでした。\", end=\"\")\n",
        "          print(f\"残高:{account.balance} 円です。\")\n",
        "          return 0\n",
        "\n",
        "        else:\n",
        "          print(f\"口座番号:{number} から{money} 円引き出しました。\", end=\"\")\n",
        "          print(f\"残高:{account.balance - money} 円です。\")\n",
        "          return money\n",
        "\n",
        "    print(f\"口座番号:{number} は存在しませんでした。\")\n",
        "    return 0"
      ],
      "metadata": {
        "id": "MhXvKXKyyV66"
      },
      "execution_count": null,
      "outputs": []
    },
    {
      "cell_type": "code",
      "source": [
        "atm = ATM()\n",
        "\n",
        "atm.exists_account(\"千歳太郎\",\"12345\")\n",
        "atm.register_account(\"千歳太郎\",\"12345\")\n",
        "\n",
        "if atm.exists_account(\"千歳太郎\",\"12345\"):\n",
        "  atm.deposit(\"12345\", 1000)\n",
        "  atm.withdraw(\"12345\", 2000)\n",
        "  atm.withdraw(\"12345\", 500)"
      ],
      "metadata": {
        "colab": {
          "base_uri": "https://localhost:8080/"
        },
        "id": "FrOxbr-PyZCK",
        "outputId": "03934ca4-2fa3-4a7f-8975-4c2d2579f681"
      },
      "execution_count": null,
      "outputs": [
        {
          "output_type": "stream",
          "name": "stdout",
          "text": [
            "名前:千歳太郎 口座番号:12345 は存在しません。\n",
            "千歳太郎 さんのアカウントを口座番号:12345 で登録しました。\n",
            "名前:千歳太郎 口座番号:12345 は存在します。\n",
            "口座番号:12345 に1000 円入金しました。\n",
            "口座番号:12345 から2000 円引き出せませんでした。残高:1000 円です。\n",
            "口座番号:12345 から500 円引き出しました。残高:500 円です。\n"
          ]
        }
      ]
    }
  ]
}