{
  "nbformat": 4,
  "nbformat_minor": 0,
  "metadata": {
    "colab": {
      "provenance": []
    },
    "kernelspec": {
      "name": "python3",
      "display_name": "Python 3"
    },
    "language_info": {
      "name": "python"
    }
  },
  "cells": [
    {
      "cell_type": "markdown",
      "source": [
        "<a href=\"https://colab.research.google.com/github/kiryu-3/Prmn2023_mng/blob/main/Python/Python_Basic/answer/PythonBasic_4_Answer.ipynb\" target=\"_parent\"><img src=\"https://colab.research.google.com/assets/colab-badge.svg\" alt=\"Open In Colab\"/></a>"
      ],
      "metadata": {
        "id": "TA5kKi-LY1xg"
      }
    },
    {
      "cell_type": "markdown",
      "source": [
        "# 第4章 課題 解答例"
      ],
      "metadata": {
        "id": "r-kcfL2yEU8b"
      }
    },
    {
      "cell_type": "markdown",
      "source": [
        "## 課題1"
      ],
      "metadata": {
        "id": "UqgRlaNaaWsU"
      }
    },
    {
      "cell_type": "markdown",
      "source": [
        "10から2800まで、10飛ばしの数を乱数で生成し、2220000に足してください。  \n",
        "\n",
        "この数を5つ生成し、一つのリストに格納した後、最終的に頭に\"b\"をつけてリストを出力してください。"
      ],
      "metadata": {
        "id": "dMngS2Dtai7U"
      }
    },
    {
      "cell_type": "markdown",
      "source": [
        "＜実行結果例＞\n",
        "``` py  \n",
        "['b2220940', 'b2222010', 'b2224650', 'b2227390', 'b2229790']\n",
        "```"
      ],
      "metadata": {
        "id": "Ys4Y3shObw3w"
      }
    },
    {
      "cell_type": "code",
      "source": [
        "# 内包表記を使わない解答例\n",
        "import random\n",
        "\n",
        "num_list = []\n",
        "student_number = 2220000\n",
        "for i in range(5):\n",
        "    student_number += random.randint(1,280)*10\n",
        "    num_list.append(student_number)\n",
        "\n",
        "b_num_list = []\n",
        "for num in num_list:\n",
        "    b_num = \"b\" + str(num)\n",
        "    b_num_list.append(b_num)\n",
        "\n",
        "print(b_num_list)"
      ],
      "metadata": {
        "colab": {
          "base_uri": "https://localhost:8080/"
        },
        "id": "Jt4IgYJNbcRB",
        "outputId": "63faf0a3-c210-4899-aa6e-48f38e478e40"
      },
      "execution_count": 3,
      "outputs": [
        {
          "output_type": "stream",
          "name": "stdout",
          "text": [
            "['b2220940', 'b2222010', 'b2224650', 'b2227390', 'b2229790']\n"
          ]
        }
      ]
    },
    {
      "cell_type": "code",
      "source": [
        "# 内包表記を使う解答例\n",
        "import random\n",
        "\n",
        "nums = [2220000 + random.randint(1,280)*10 for count in range(5)]\n",
        "result = ['b' + str(num) for num in nums]\n",
        "\n",
        "print(result)"
      ],
      "metadata": {
        "colab": {
          "base_uri": "https://localhost:8080/"
        },
        "id": "iZMWSA7AaiY3",
        "outputId": "3e157719-9032-4754-c6fd-40e7b65a7e0e"
      },
      "execution_count": 4,
      "outputs": [
        {
          "output_type": "stream",
          "name": "stdout",
          "text": [
            "['b2220400', 'b2221750', 'b2222480', 'b2221720', 'b2220380']\n"
          ]
        }
      ]
    },
    {
      "cell_type": "markdown",
      "source": [
        "## 課題2"
      ],
      "metadata": {
        "id": "yRsfay5_8FuJ"
      }
    },
    {
      "cell_type": "markdown",
      "source": [
        "1桁の自然数を乱数を使って5つ格納した2つのリストを作ってください。  \n",
        "この時、一つのリスト内で5つの値が重複しないようにしてください\n",
        "\n",
        "その後、対応する要素を足し合わせた新しいリストを出力してください"
      ],
      "metadata": {
        "id": "4WbYBFGr8Ht3"
      }
    },
    {
      "cell_type": "markdown",
      "source": [
        "＜実行結果例＞\n",
        "``` py  \n",
        "1つ目のリスト：[1, 2, 3, 4, 5]  \n",
        "2つ目のリスト：[1, 3, 5, 7, 9]  \n",
        "足し合わせたリスト：[2, 5, 8, 11, 14]\n",
        "```"
      ],
      "metadata": {
        "id": "A0ImPPha84Nb"
      }
    },
    {
      "cell_type": "code",
      "source": [
        "# 重複のない5つの1桁の自然数の作成例3選\n",
        "import random\n",
        "\n",
        "# その1 random.sample()を使ってスマートに\n",
        "list1 = random.sample(range(1, 10), 5)\n",
        "list2 = random.sample(range(1, 10), 5)\n",
        "\n",
        "print(f\"1番目の方法のリスト1：{list1}\")\n",
        "print(f\"1番目の方法のリスト2：{list2}\")\n",
        "\n",
        "# その2 range()とrandom.shuffle()を使う\n",
        "numbers = list(range(10))\n",
        "random.shuffle(numbers)\n",
        "list1 = numbers[:5]\n",
        "random.shuffle(numbers)\n",
        "list2 = numbers[:5]\n",
        "\n",
        "print(f\"2番目の方法のリスト1：{list1}\")\n",
        "print(f\"2番目の方法のリスト2：{list2}\")\n",
        "\n",
        "# その3 whileループとin演算子を使う\n",
        "list1 = []\n",
        "while len(list1) < 5:\n",
        "    new_num = random.randint(0, 9)\n",
        "    if new_num not in list1:\n",
        "        list1.append(new_num)\n",
        "\n",
        "list2 = []\n",
        "while len(list2) < 5:\n",
        "    new_num = random.randint(0, 9)\n",
        "    if new_num not in list2:\n",
        "        list2.append(new_num)\n",
        "\n",
        "print(f\"3番目の方法のリスト1：{list1}\")\n",
        "print(f\"3番目の方法のリスト2：{list2}\")"
      ],
      "metadata": {
        "colab": {
          "base_uri": "https://localhost:8080/"
        },
        "id": "1s7H8skfIfgx",
        "outputId": "dde764f4-9e34-4605-ff6a-077f6277668e"
      },
      "execution_count": null,
      "outputs": [
        {
          "output_type": "stream",
          "name": "stdout",
          "text": [
            "1番目の方法のリスト1：[1, 9, 7, 5, 8]\n",
            "1番目の方法のリスト2：[9, 4, 7, 3, 8]\n",
            "2番目の方法のリスト1：[1, 4, 3, 5, 2]\n",
            "2番目の方法のリスト2：[5, 2, 6, 4, 7]\n",
            "3番目の方法のリスト1：[5, 0, 7, 4, 6]\n",
            "3番目の方法のリスト2：[7, 2, 4, 3, 5]\n"
          ]
        }
      ]
    },
    {
      "cell_type": "code",
      "source": [
        "# 解答例\n",
        "import random\n",
        "\n",
        "# 1桁の自然数を5つ格納した2つのリストを生成\n",
        "list1 = random.sample(range(1, 10), 5)\n",
        "list2 = random.sample(range(1, 10), 5)\n",
        "\n",
        "# 対応する要素を足し合わせた新しいリストを生成\n",
        "sum_list = []\n",
        "for i in range(len(list1)):\n",
        "  sum = list1[i] + list2[i]\n",
        "  sum_list.append(sum)\n",
        "\n",
        "# 結果を出力（結果は毎回変わる）\n",
        "print(list1)\n",
        "print(list2)\n",
        "print(sum_list)"
      ],
      "metadata": {
        "colab": {
          "base_uri": "https://localhost:8080/"
        },
        "id": "GRQ0CXH79sPY",
        "outputId": "af4e46a9-9023-4929-dece-cf388a892fef"
      },
      "execution_count": null,
      "outputs": [
        {
          "output_type": "stream",
          "name": "stdout",
          "text": [
            "[6, 9, 8, 5, 2]\n",
            "[2, 1, 3, 6, 7]\n",
            "[8, 10, 11, 11, 9]\n"
          ]
        }
      ]
    },
    {
      "cell_type": "code",
      "source": [
        "# 別解\n",
        "import random\n",
        "\n",
        "# 1桁の自然数を5つ格納した2つのリストを生成\n",
        "list1 = random.sample(range(1, 10), 5)\n",
        "list2 = random.sample(range(1, 10), 5)\n",
        "\n",
        "# 対応する要素を足し合わせた新しいリストを生成\n",
        "sum_list = [list1[i] + list2[i] for i in range(5)]\n",
        "\n",
        "# 結果を出力（結果は毎回変わる）\n",
        "print(list1)\n",
        "print(list2)\n",
        "print(sum_list)"
      ],
      "metadata": {
        "colab": {
          "base_uri": "https://localhost:8080/"
        },
        "id": "m5_NKQ-k9gqk",
        "outputId": "1668290c-06bf-48c6-caf1-4d469f08558e"
      },
      "execution_count": null,
      "outputs": [
        {
          "output_type": "stream",
          "name": "stdout",
          "text": [
            "[7, 2, 8, 5, 6]\n",
            "[9, 5, 6, 7, 4]\n",
            "[16, 7, 14, 12, 10]\n"
          ]
        }
      ]
    },
    {
      "cell_type": "markdown",
      "source": [
        "## 課題3"
      ],
      "metadata": {
        "id": "-qZw_n3X8xrW"
      }
    },
    {
      "cell_type": "markdown",
      "source": [
        "リストの中身を指定した数で分割してみます。\n",
        "\n",
        "以下のリストには都道府県47つが格納されています。"
      ],
      "metadata": {
        "id": "vxwATeobQf_U"
      }
    },
    {
      "cell_type": "code",
      "source": [
        "todohuken_list = [\n",
        "    '北海道', '青森県', '岩手県', '宮城県', '秋田県', '山形県', '福島県', '茨城県', '栃木県', '群馬県', \n",
        "    '埼玉県', '千葉県', '東京都', '神奈川県', '新潟県', '富山県', '石川県', '福井県', '山梨県', '長野県', \n",
        "    '岐阜県', '静岡県', '愛知県', '三重県', '滋賀県', '京都府', '大阪府', '兵庫県', '奈良県', '和歌山県', \n",
        "    '鳥取県', '島根県', '岡山県', '広島県', '山口県', '徳島県', '香川県', '愛媛県', '高知県',  '福岡県', \n",
        "    '佐賀県', '長崎県', '熊本県', '大分県', '宮崎県', '鹿児島県', '沖縄県',\n",
        "]"
      ],
      "metadata": {
        "id": "8ZdyRWbERGAY"
      },
      "execution_count": null,
      "outputs": []
    },
    {
      "cell_type": "markdown",
      "source": [
        "  \n",
        "これをランダムに1つのリストのサイズを4として分割してください"
      ],
      "metadata": {
        "id": "tGPa1uU6Qs2c"
      }
    },
    {
      "cell_type": "markdown",
      "source": [
        "＜実行結果例＞  \n",
        "``` py \n",
        "[['宮崎県', '茨城県', '栃木県', '千葉県'], … , ['岩手県', '滋賀県', '宮城県']]\n",
        "```"
      ],
      "metadata": {
        "id": "PWLTwz0TXzm_"
      }
    },
    {
      "cell_type": "code",
      "source": [
        "# 解答例\n",
        "import random\n",
        "random.shuffle(todohuken_list)\n",
        "\n",
        "chunked_list = list()\n",
        "chunk_size = 4\n",
        "\n",
        "for i in range(0, len(todohuken_list), chunk_size):\n",
        "    chunked_list.append(todohuken_list[i:i+chunk_size])\n",
        "\n",
        "print(chunked_list)"
      ],
      "metadata": {
        "id": "eRwSrCpPdN6N"
      },
      "execution_count": null,
      "outputs": []
    },
    {
      "cell_type": "markdown",
      "source": [
        "## 課題4"
      ],
      "metadata": {
        "id": "W573lh39MOlj"
      }
    },
    {
      "cell_type": "markdown",
      "source": [
        "ある大学の名前と年齢が、次のような形式で格納されたリスト `university_list` があります。"
      ],
      "metadata": {
        "id": "sSIMKY-aNcIx"
      }
    },
    {
      "cell_type": "code",
      "source": [
        "university_list = [\n",
        "    \"Chitose,25\",\n",
        "    \"Hokudai,105\",\n",
        "    \"Muroran,74\",\n",
        "    \"Hakodate,23\",\n",
        "]"
      ],
      "metadata": {
        "id": "v-wGyWuKK3wl"
      },
      "execution_count": null,
      "outputs": []
    },
    {
      "cell_type": "markdown",
      "source": [
        "このリストを、年齢順にソートして、新たなリストとして出力してください"
      ],
      "metadata": {
        "id": "XIxDf9QgO1iH"
      }
    },
    {
      "cell_type": "markdown",
      "source": [
        "＜実行結果＞  \n",
        "``` py\n",
        "['Chitose,25', 'Hokudai,105', 'Muroran,74', 'Hakodate,23']\n",
        "['Hakodate,23', 'Chitose,25', 'Muroran,74', 'Hokudai,105']\n",
        "```"
      ],
      "metadata": {
        "id": "0Z2-_1dAQENU"
      }
    },
    {
      "cell_type": "code",
      "source": [
        "# 解答例\n",
        "sorted_list = []\n",
        "age_list = []\n",
        "    \n",
        "# 年齢を取り出してint型に変換\n",
        "for university in university_list:\n",
        "   age = int(university.split(\",\")[1])\n",
        "   age_list.append(age)\n",
        "    \n",
        "# 年齢順にソート\n",
        "age_list.sort()\n",
        "    \n",
        "# ソートした年齢に対応する名前を取得\n",
        "for age in age_list:\n",
        "    for university in university_list:\n",
        "      if age == int(university.split(\",\")[1]):\n",
        "         sorted_list.append(university)\n",
        "\n",
        "print(university_list)\n",
        "print(sorted_list)"
      ],
      "metadata": {
        "colab": {
          "base_uri": "https://localhost:8080/"
        },
        "id": "5SyXGEb7PaNV",
        "outputId": "447aaab7-2b4d-45c9-b9f8-53eae8d81e40"
      },
      "execution_count": null,
      "outputs": [
        {
          "output_type": "stream",
          "name": "stdout",
          "text": [
            "['Chitose,25', 'Hokudai,105', 'Muroran,74', 'hakodate,23']\n",
            "['hakodate,23', 'Chitose,25', 'Muroran,74', 'Hokudai,105']\n"
          ]
        }
      ]
    },
    {
      "cell_type": "code",
      "source": [
        "# ディクショナリを用いた別解（第5章で学習）\n",
        "\n",
        "# 年齢をキーとした辞書を作成\n",
        "age_dict = {}\n",
        "for university in university_list:\n",
        "   name, age = university.split(',')\n",
        "   age_dict[int(age)] = university\n",
        "    \n",
        "# 年齢順にソートされたリストを作成\n",
        "sorted_ages = sorted(age_dict.keys())\n",
        "    \n",
        "# 年齢順にソートされたリストに従って、新たなリストを作成\n",
        "sorted_list = []\n",
        "for age in sorted_ages:\n",
        "  sorted_list.append(age_dict[age])\n",
        "\n",
        "print(university_list)\n",
        "print(sorted_list)"
      ],
      "metadata": {
        "colab": {
          "base_uri": "https://localhost:8080/"
        },
        "id": "wOEaz7SiTxDs",
        "outputId": "dccf6d34-fc8c-416e-bcbf-15f9a662ced7"
      },
      "execution_count": null,
      "outputs": [
        {
          "output_type": "stream",
          "name": "stdout",
          "text": [
            "['Chitose,25', 'Hokudai,105', 'Muroran,74', 'hakodate,23']\n",
            "['hakodate,23', 'Chitose,25', 'Muroran,74', 'Hokudai,105']\n"
          ]
        }
      ]
    },
    {
      "cell_type": "markdown",
      "source": [
        "## 課題5"
      ],
      "metadata": {
        "id": "QijnXk7UWAVC"
      }
    },
    {
      "cell_type": "markdown",
      "source": [
        "**FizzBuzz（フィズ・バズ）問題**という問題について解いていきます。\n",
        "\n",
        "もともとは、英語圏で長距離ドライブ中や飲み会の時に行われる言葉遊びです。"
      ],
      "metadata": {
        "id": "m7F47Q1mWCA6"
      }
    },
    {
      "cell_type": "markdown",
      "source": [
        "以下のような問題になります。\n",
        "\n",
        "1～Nまでの整数を順に出力しなさい。ただし、例外として以下のルールを守ること。\n",
        "\n",
        "* 3で割り切れる数字の場合は\"Fizz\"を出力\n",
        "* 5で割り切れる数字の場合は\"Buzz\"を出力\n",
        "* どちらでも割り切れる数字の場合は\"FizzBuzz\"を出力"
      ],
      "metadata": {
        "id": "fArw0VcNWgwZ"
      }
    },
    {
      "cell_type": "markdown",
      "source": [
        "ここではN=100として、まずは一つのリストに\n",
        "\"Fizz\" か \"Buzz\" か \"FizzBuzz\" か \"others\" を格納してください。\n",
        "\n",
        "その後、それぞれの要素の数をカウントしてください。"
      ],
      "metadata": {
        "id": "SYqkpYstWm7Z"
      }
    },
    {
      "cell_type": "markdown",
      "source": [
        "＜実行結果＞  \n",
        "``` py\n",
        "FizzBuzzの数：6 \n",
        "Fizzの数：27 \n",
        "Buzzの数：14\n",
        "othersの数：53  \n",
        "```"
      ],
      "metadata": {
        "id": "OqLuJTcWYzFt"
      }
    },
    {
      "cell_type": "code",
      "source": [
        "# 解答例その1\n",
        "n = 100\n",
        "result = []\n",
        "for i in range(1, n+1):\n",
        "    if i % 15 == 0:\n",
        "        result.append(\"FizzBuzz\")\n",
        "    elif i % 3 == 0:\n",
        "        result.append(\"Fizz\")\n",
        "    elif i % 5 == 0:\n",
        "        result.append(\"Buzz\")\n",
        "    else:\n",
        "        result.append(\"others\")\n",
        "\n",
        "print(\"FizzBuzzの数：{}\".format(result.count(\"FizzBuzz\")))\n",
        "print(\"Fizzの数：{}\".format(result.count(\"Fizz\")))\n",
        "print(\"Buzzの数：{}\".format(result.count(\"Buzz\")))\n",
        "print(\"othersの数：{}\".format(result.count(\"others\")))"
      ],
      "metadata": {
        "colab": {
          "base_uri": "https://localhost:8080/"
        },
        "id": "eLTTvAXSYYYv",
        "outputId": "8554d2b2-6e1d-4910-a5d3-21cbb5dcac85"
      },
      "execution_count": null,
      "outputs": [
        {
          "output_type": "stream",
          "name": "stdout",
          "text": [
            "FizzBuzzの数：6\n",
            "Fizzの数：27\n",
            "Buzzの数：14\n",
            "othersの数：53\n"
          ]
        }
      ]
    },
    {
      "cell_type": "code",
      "source": [
        "# 解答例その2\n",
        "n = 100\n",
        "result = []\n",
        "for i in range(1, n+1):\n",
        "  output = \"\"\n",
        "  if i % 3 == 0:\n",
        "    output = \"Fizz\"\n",
        "  if i % 5 == 0:\n",
        "    output += \"Buzz\"\n",
        "\n",
        "  if not output:\n",
        "    result.append(\"others\")\n",
        "  else:\n",
        "    result.append(output)\n",
        "\n",
        "print(\"FizzBuzzの数：{}\".format(result.count(\"FizzBuzz\")))\n",
        "print(\"Fizzの数：{}\".format(result.count(\"Fizz\")))\n",
        "print(\"Buzzの数：{}\".format(result.count(\"Buzz\")))\n",
        "print(\"othersの数：{}\".format(result.count(\"others\")))"
      ],
      "metadata": {
        "colab": {
          "base_uri": "https://localhost:8080/"
        },
        "id": "hcprgYiyZClD",
        "outputId": "1026252b-c2d9-4d68-8ae3-75a0adf58c21"
      },
      "execution_count": null,
      "outputs": [
        {
          "output_type": "stream",
          "name": "stdout",
          "text": [
            "FizzBuzzの数：6\n",
            "Fizzの数：27\n",
            "Buzzの数：14\n",
            "othersの数：53\n"
          ]
        }
      ]
    }
  ]
}
