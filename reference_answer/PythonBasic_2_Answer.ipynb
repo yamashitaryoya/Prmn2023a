{
  "nbformat": 4,
  "nbformat_minor": 0,
  "metadata": {
    "colab": {
      "provenance": [],
      "toc_visible": true,
      "authorship_tag": "ABX9TyMQs4zbm8vivtEzfL/MfWAI",
      "include_colab_link": true
    },
    "kernelspec": {
      "name": "python3",
      "display_name": "Python 3"
    },
    "language_info": {
      "name": "python"
    }
  },
  "cells": [
    {
      "cell_type": "markdown",
      "metadata": {
        "id": "view-in-github",
        "colab_type": "text"
      },
      "source": [
        "<a href=\"https://colab.research.google.com/github/kiryu-3/Prmn2023_mng/blob/main/Python/Python_Basic/answer/PythonBasic_2_Answer.ipynb\" target=\"_parent\"><img src=\"https://colab.research.google.com/assets/colab-badge.svg\" alt=\"Open In Colab\"/></a>"
      ]
    },
    {
      "cell_type": "markdown",
      "source": [
        "# 第2章 課題 解答例"
      ],
      "metadata": {
        "id": "_cxlIw5gJECK"
      }
    },
    {
      "cell_type": "markdown",
      "source": [
        "## 課題1"
      ],
      "metadata": {
        "id": "BCYoAdtyJECM"
      }
    },
    {
      "cell_type": "markdown",
      "source": [
        "for文を使って、以下のように出力してください"
      ],
      "metadata": {
        "id": "noAYosoOJECM"
      }
    },
    {
      "cell_type": "markdown",
      "source": [
        "![oSFeQoX.png](https://i.imgur.com/oSFeQoX.png)"
      ],
      "metadata": {
        "id": "BsSwUze_JECN"
      }
    },
    {
      "cell_type": "code",
      "source": [
        "# 解答例\n",
        "for i in range(1,5):\n",
        "  N1 = abs(4-i)  # 空白の数（片方）\n",
        "  N2 = 2*(3-N1)+1  # \"*\"の数\n",
        "\n",
        "  for j in range(N1):\n",
        "    print(\" \", end=\"\")\n",
        "\n",
        "  for j in range(N2):\n",
        "    print(\"*\", end=\"\")\n",
        "\n",
        "  print()  # 改行"
      ],
      "metadata": {
        "id": "mAGYLjGDKIYB",
        "colab": {
          "base_uri": "https://localhost:8080/"
        },
        "outputId": "da90d0d1-687f-4dc3-f013-c6b1cfb12845"
      },
      "execution_count": 1,
      "outputs": [
        {
          "output_type": "stream",
          "name": "stdout",
          "text": [
            "   *\n",
            "  ***\n",
            " *****\n",
            "*******\n"
          ]
        }
      ]
    },
    {
      "cell_type": "code",
      "source": [
        "# 別解\n",
        "for i in range(1,5):\n",
        "  N1 = 4-i  # 空白の数（片方）\n",
        "  N2 = (2*4-1)-2*N1  # 真ん中の行の長さ - 空白の数（両方）\n",
        "\n",
        "  print(\" \"*N1 + \"*\"*N2)"
      ],
      "metadata": {
        "id": "FzfRDX8gJECN",
        "colab": {
          "base_uri": "https://localhost:8080/"
        },
        "outputId": "e202ba01-77d2-49f2-c18d-42f9ac5987b8"
      },
      "execution_count": 2,
      "outputs": [
        {
          "output_type": "stream",
          "name": "stdout",
          "text": [
            "   *\n",
            "  ***\n",
            " *****\n",
            "*******\n"
          ]
        }
      ]
    },
    {
      "cell_type": "markdown",
      "source": [
        "## 課題2"
      ],
      "metadata": {
        "id": "wgCA0gIbJECN"
      }
    },
    {
      "cell_type": "markdown",
      "source": [
        "課題1の場合を`n=4`として、nを自分で設定して出力できるようにしてください"
      ],
      "metadata": {
        "id": "Oi3vPmvAJECO"
      }
    },
    {
      "cell_type": "markdown",
      "source": [
        "＜例＞ n=5の場合  \n",
        "![o5NjugQ.png](https://imgur.com/o5NjugQ.png)"
      ],
      "metadata": {
        "id": "jS8gC2rlJECO"
      }
    },
    {
      "cell_type": "code",
      "source": [
        "# 解答例\n",
        "n = 5\n",
        "\n",
        "for i in range(1,n+1):\n",
        "  N1 = abs(n-i)  # 空白の数（片方）\n",
        "  N2 = 2*((n-1)-N1)+1  # \"*\"の数\n",
        "\n",
        "  for j in range(N1):\n",
        "    print(\" \", end=\"\")\n",
        "\n",
        "  for j in range(N2):\n",
        "    print(\"*\", end=\"\")\n",
        "\n",
        "  print()  # 改行"
      ],
      "metadata": {
        "id": "jWguBogVmaS-",
        "colab": {
          "base_uri": "https://localhost:8080/"
        },
        "outputId": "b4c86706-5b8e-4e40-ae6a-11838c666bba"
      },
      "execution_count": 3,
      "outputs": [
        {
          "output_type": "stream",
          "name": "stdout",
          "text": [
            "    *\n",
            "   ***\n",
            "  *****\n",
            " *******\n",
            "*********\n"
          ]
        }
      ]
    },
    {
      "cell_type": "code",
      "source": [
        "# 別解\n",
        "n = 5\n",
        "\n",
        "for i in range(1,n+1):\n",
        "  N1 = n-i  # 空白の数（片方）\n",
        "  N2 = (2*n-1)-2*N1  # 真ん中の行の長さ - 空白の数（両方）\n",
        "\n",
        "  print(\" \"*N1 + \"*\"*N2)"
      ],
      "metadata": {
        "id": "LTdgh6csJECO",
        "colab": {
          "base_uri": "https://localhost:8080/"
        },
        "outputId": "54f74f21-d9f8-4d15-fd1d-320f46766197"
      },
      "execution_count": 4,
      "outputs": [
        {
          "output_type": "stream",
          "name": "stdout",
          "text": [
            "    *\n",
            "   ***\n",
            "  *****\n",
            " *******\n",
            "*********\n"
          ]
        }
      ]
    },
    {
      "cell_type": "markdown",
      "source": [
        "## 課題3"
      ],
      "metadata": {
        "id": "h9pUWcIeJECO"
      }
    },
    {
      "cell_type": "markdown",
      "source": [
        "for文を使って、以下のように出力してください"
      ],
      "metadata": {
        "id": "bnvROIH9JECP"
      }
    },
    {
      "cell_type": "markdown",
      "source": [
        "![oSirXec.png](https://imgur.com/oSirXec.png)"
      ],
      "metadata": {
        "id": "ijOV-ilXGDNR"
      }
    },
    {
      "cell_type": "code",
      "source": [
        "# 解答例\n",
        "for i in range(1,8):\n",
        "  N1 = abs(4-i)  # 空白の数（片方）\n",
        "  N2 = 2*(3-N1)+1  # \"*\"の数\n",
        "\n",
        "  for j in range(N1):\n",
        "    print(\" \", end=\"\")\n",
        "\n",
        "  for j in range(N2):\n",
        "    print(\"*\", end=\"\")\n",
        "\n",
        "  print()  # 改行"
      ],
      "metadata": {
        "id": "Q5Ob9uZpGIE3",
        "colab": {
          "base_uri": "https://localhost:8080/"
        },
        "outputId": "e82df7d8-b5f7-4419-bd55-2e6997b8a270"
      },
      "execution_count": 5,
      "outputs": [
        {
          "output_type": "stream",
          "name": "stdout",
          "text": [
            "   *\n",
            "  ***\n",
            " *****\n",
            "*******\n",
            " *****\n",
            "  ***\n",
            "   *\n"
          ]
        }
      ]
    },
    {
      "cell_type": "code",
      "source": [
        "# 別解\n",
        "for i in range(1,8):\n",
        "  N1 = abs(4-i)  # 空白の数（片方）\n",
        "  N2 = (2*4-1)-2*N1  # 真ん中の行の長さ - 空白の数（両方）\n",
        "\n",
        "  print(\" \"*N1 + \"*\"*N2)"
      ],
      "metadata": {
        "id": "A9Uz7AXrnE2W",
        "colab": {
          "base_uri": "https://localhost:8080/"
        },
        "outputId": "7a662c94-5bd2-4a1b-f9fe-f6d07096e5c5"
      },
      "execution_count": 6,
      "outputs": [
        {
          "output_type": "stream",
          "name": "stdout",
          "text": [
            "   *\n",
            "  ***\n",
            " *****\n",
            "*******\n",
            " *****\n",
            "  ***\n",
            "   *\n"
          ]
        }
      ]
    },
    {
      "cell_type": "markdown",
      "source": [
        "## 課題4"
      ],
      "metadata": {
        "id": "Oh7whOPkGQ3I"
      }
    },
    {
      "cell_type": "markdown",
      "source": [
        "課題3の場合を`n=4`として、nを自分で設定して出力できるようにしてください"
      ],
      "metadata": {
        "id": "PnvT8MQbGS03"
      }
    },
    {
      "cell_type": "markdown",
      "source": [
        "＜例＞ n=5の場合  \n",
        "\n",
        "![my4J17V.png](https://i.imgur.com/my4J17V.png)"
      ],
      "metadata": {
        "id": "ZujkAbVMGzhn"
      }
    },
    {
      "cell_type": "code",
      "source": [
        "# 解答例\n",
        "n = 5\n",
        "\n",
        "for i in range(1,2*n+1):\n",
        "  N1 = abs(n-i)      # 空白の数（片方）\n",
        "  N2 = (2*n-1)-2*N1  # \"*\"の数\n",
        "\n",
        "  for j in range(N1):\n",
        "    print(\" \", end=\"\")\n",
        "\n",
        "  for j in range(N2):\n",
        "    print(\"*\", end=\"\")\n",
        "\n",
        "  print()  # 改行"
      ],
      "metadata": {
        "id": "hCFNQ7mWG99u",
        "colab": {
          "base_uri": "https://localhost:8080/"
        },
        "outputId": "020f9ca4-270c-4084-fadf-0230a4fa34d5"
      },
      "execution_count": 17,
      "outputs": [
        {
          "output_type": "stream",
          "name": "stdout",
          "text": [
            "    *\n",
            "   ***\n",
            "  *****\n",
            " *******\n",
            "*********\n",
            " *******\n",
            "  *****\n",
            "   ***\n",
            "    *\n",
            "     \n"
          ]
        }
      ]
    },
    {
      "cell_type": "code",
      "source": [
        "# 別解\n",
        "n = 5\n",
        "\n",
        "for i in range(1,2*n+1):\n",
        "  N1 = abs(n-i)      # 空白の数（片方）\n",
        "  N2 = (2*n-1)-2*N1  # 真ん中の行の長さ - 空白の数（両方）\n",
        "\n",
        "  print(\" \"*N1 + \"*\"*N2)"
      ],
      "metadata": {
        "id": "60v3F2xFnj8s",
        "colab": {
          "base_uri": "https://localhost:8080/"
        },
        "outputId": "fa037da3-460e-472a-c32f-d69c2932107a"
      },
      "execution_count": 18,
      "outputs": [
        {
          "output_type": "stream",
          "name": "stdout",
          "text": [
            "    *\n",
            "   ***\n",
            "  *****\n",
            " *******\n",
            "*********\n",
            " *******\n",
            "  *****\n",
            "   ***\n",
            "    *\n",
            "     \n"
          ]
        }
      ]
    },
    {
      "cell_type": "markdown",
      "source": [
        "## 課題5"
      ],
      "metadata": {
        "id": "R2MvOK4wHJlK"
      }
    },
    {
      "cell_type": "markdown",
      "source": [
        "for文を使って、以下のように出力してください"
      ],
      "metadata": {
        "id": "ddMIUoaKHcwd"
      }
    },
    {
      "cell_type": "markdown",
      "source": [
        "![vDUi5eM.png](https://imgur.com/vDUi5eM.png)"
      ],
      "metadata": {
        "id": "CD1cVUlWHLVO"
      }
    },
    {
      "cell_type": "code",
      "source": [
        "# 解答例\n",
        "for i in range(1,8):\n",
        "  N1 = abs(4-i)  # 空白の数（左方）\n",
        "  N2 = 2*(3-N1)+1  # \"*\"の数（左方）\n",
        "\n",
        "  if i==4:  # 真ん中の行は他と処理が違う\n",
        "    N3 = 2*N1  # 空白の数（真ん中）\n",
        "    N4 = N2-1  # \"*\"の数（右方）\n",
        "\n",
        "  else:\n",
        "    N3 = 2*N1-1  # 空白の数（真ん中）\n",
        "    N4 = N2  # \"*\"の数（右方）\n",
        "\n",
        "  for j in range(N1):\n",
        "    print(\" \", end=\"\")\n",
        "\n",
        "  for j in range(N2):\n",
        "    print(\"*\", end=\"\")\n",
        "\n",
        "  for j in range(N3):\n",
        "    print(\" \", end=\"\")\n",
        "\n",
        "  for j in range(N4):\n",
        "    print(\"*\", end=\"\")    \n",
        "\n",
        "  print()  # 改行"
      ],
      "metadata": {
        "colab": {
          "base_uri": "https://localhost:8080/"
        },
        "id": "BtAK7wfhoKqE",
        "outputId": "cbc3c608-2de4-4fba-8cd8-cb2e599791e2"
      },
      "execution_count": 9,
      "outputs": [
        {
          "output_type": "stream",
          "name": "stdout",
          "text": [
            "   *     *\n",
            "  ***   ***\n",
            " ***** *****\n",
            "*************\n",
            " ***** *****\n",
            "  ***   ***\n",
            "   *     *\n"
          ]
        }
      ]
    },
    {
      "cell_type": "code",
      "source": [
        "# 別解\n",
        "max = (2*4-1)*2-1  #真ん中の行の長さ \n",
        "\n",
        "for i in range(1,8):\n",
        "  N1 = abs(4-i)      # 空白の数（左方）\n",
        "  N2 = (2*4-1)-2*N1  # 真ん中の行の長さ - 空白の数（両方）\n",
        "  N3 = max - (N1*2 + N2*2) + int(i==4)  # 空白の数（真ん中）\n",
        "  N4 = max - (N1*2+N2+N3)  # \"*\"の数（右方）\n",
        "\n",
        "  print(\" \"*N1 + \"*\"*N2 + \" \"*N3 + \"*\"*N4)"
      ],
      "metadata": {
        "id": "D-vp81Vwn1ll",
        "colab": {
          "base_uri": "https://localhost:8080/"
        },
        "outputId": "cf7a27b8-a315-4a7c-98d7-5315bd17916d"
      },
      "execution_count": 10,
      "outputs": [
        {
          "output_type": "stream",
          "name": "stdout",
          "text": [
            "   *     *\n",
            "  ***   ***\n",
            " ***** *****\n",
            "*************\n",
            " ***** *****\n",
            "  ***   ***\n",
            "   *     *\n"
          ]
        }
      ]
    },
    {
      "cell_type": "markdown",
      "source": [
        "## 課題6"
      ],
      "metadata": {
        "id": "oubbafOBHerl"
      }
    },
    {
      "cell_type": "markdown",
      "source": [
        "課題5の場合を`n=4`として、nを自分で設定して出力できるようにしてください"
      ],
      "metadata": {
        "id": "7SzgFdC-HzG9"
      }
    },
    {
      "cell_type": "markdown",
      "source": [
        "＜例＞ n=5の場合  \n",
        "\n",
        "![udkVlYG.png](https://imgur.com/udkVlYG.png)"
      ],
      "metadata": {
        "id": "LY8g9PVPH2OW"
      }
    },
    {
      "cell_type": "code",
      "source": [
        "# 解答例\n",
        "n = 5\n",
        "\n",
        "for i in range(1,2*n):\n",
        "  N1 = abs(n-i)  # 空白の数（左方）\n",
        "  N2 = (2*n-1)-2*N1  # \"*\"の数（左方）\n",
        "\n",
        "  if i==n:\n",
        "    N3 = 2*N1  # 空白の数（真ん中）\n",
        "    N4 = N2-1  # \"*\"の数（右方）\n",
        "\n",
        "  else:\n",
        "    N3 = 2*N1-1  # 空白の数（真ん中）\n",
        "    N4 = N2  # \"*\"の数（右方）\n",
        "\n",
        "  for j in range(N1):\n",
        "    print(\" \", end=\"\")\n",
        "\n",
        "  for j in range(N2):\n",
        "    print(\"*\", end=\"\")\n",
        "\n",
        "  for j in range(N3):\n",
        "    print(\" \", end=\"\")\n",
        "\n",
        "  for j in range(N4):\n",
        "    print(\"*\", end=\"\")    \n",
        "\n",
        "  print()  # 改行"
      ],
      "metadata": {
        "id": "XZOK5ulbH-tu",
        "colab": {
          "base_uri": "https://localhost:8080/"
        },
        "outputId": "1163d3f1-ef65-41e1-ca29-fab378dfdddc"
      },
      "execution_count": 11,
      "outputs": [
        {
          "output_type": "stream",
          "name": "stdout",
          "text": [
            "    *       *\n",
            "   ***     ***\n",
            "  *****   *****\n",
            " ******* *******\n",
            "*****************\n",
            " ******* *******\n",
            "  *****   *****\n",
            "   ***     ***\n",
            "    *       *\n"
          ]
        }
      ]
    },
    {
      "cell_type": "code",
      "source": [
        "# 別解\n",
        "n=5\n",
        "max = (2*n-1)*2-1  #真ん中の行の長さ \n",
        "\n",
        "for i in range(1,2*n):\n",
        "  N1 = abs(n-i)  # 空白の数（左方）\n",
        "  N2 = (2*n-1)-2*N1  # 真ん中の行の長さ - 空白の数（両方）\n",
        "  N3 = max - (N1*2 + N2*2) + int(i==n)  # 空白の数（真ん中）\n",
        "  N4 = max - (N1*2+N2+N3)  # \"*\"の数（右方）\n",
        "\n",
        "  print(\" \"*N1 + \"*\"*N2 + \" \"*N3 + \"*\"*N4)"
      ],
      "metadata": {
        "id": "930AulkJqeX_",
        "colab": {
          "base_uri": "https://localhost:8080/"
        },
        "outputId": "75eb6896-9e68-47f6-d9db-b118013e20a1"
      },
      "execution_count": 12,
      "outputs": [
        {
          "output_type": "stream",
          "name": "stdout",
          "text": [
            "    *       *\n",
            "   ***     ***\n",
            "  *****   *****\n",
            " ******* *******\n",
            "*****************\n",
            " ******* *******\n",
            "  *****   *****\n",
            "   ***     ***\n",
            "    *       *\n"
          ]
        }
      ]
    },
    {
      "cell_type": "markdown",
      "source": [
        "## 課題7"
      ],
      "metadata": {
        "id": "ouqTUmPQIKGF"
      }
    },
    {
      "cell_type": "markdown",
      "source": [
        "for文を使って、以下のように出力してください"
      ],
      "metadata": {
        "id": "WHSxdOHuIMRM"
      }
    },
    {
      "cell_type": "markdown",
      "source": [
        "![IuP0M16.png](https://imgur.com/IuP0M16.png)"
      ],
      "metadata": {
        "id": "-G--WFTkIM8s"
      }
    },
    {
      "cell_type": "code",
      "source": [
        "# 解答例\n",
        "for i in range(1,8):\n",
        "  N1 = abs(4-i)  # 空白の数（左方）\n",
        "  N2 = (2*4-1)-2*N1  # 真ん中の行の長さ - 空白の数（両方）\n",
        "\n",
        "  if i==4:\n",
        "    N3 = 2*N1  # 空白の数（真ん中）\n",
        "    N4 = N2-1  # \"*\"の数（右方）\n",
        "\n",
        "  else:\n",
        "    N3 = 2*N1-1  # 空白の数（真ん中）\n",
        "    N4 = N2  # \"*\"の数（右方）\n",
        "\n",
        "  for j in range(N1):\n",
        "    print(\" \", end=\"\")\n",
        "\n",
        "  for j in range(N2):\n",
        "    print(\"*\", end=\"\")\n",
        "\n",
        "  for j in range(N3):\n",
        "    print(\" \", end=\"\")\n",
        "\n",
        "  for j in range(N4):\n",
        "    print(\"*\", end=\"\")    \n",
        "\n",
        "  print()  # 改行\n",
        "\n",
        "\n",
        "\n",
        "for i in range(2,8):\n",
        "  N1 = abs(4-i)\n",
        "  N2 = (2*4-1)-2*N1\n",
        "\n",
        "  if i==4:\n",
        "    N3 = 2*N1\n",
        "    N4 = N2-1\n",
        "\n",
        "  else:\n",
        "    N3 = 2*N1-1\n",
        "    N4 = N2\n",
        "\n",
        "  for j in range(N1):\n",
        "    print(\" \", end=\"\")\n",
        "\n",
        "  for j in range(N2):\n",
        "    print(\"*\", end=\"\")\n",
        "\n",
        "  for j in range(N3):\n",
        "    print(\" \", end=\"\")\n",
        "\n",
        "  for j in range(N4):\n",
        "    print(\"*\", end=\"\")    \n",
        "\n",
        "  print()  # 改行  "
      ],
      "metadata": {
        "id": "P4dQhi-BrUFO",
        "colab": {
          "base_uri": "https://localhost:8080/"
        },
        "outputId": "8ed91e20-3511-45d4-9ba7-24418c25dfd9"
      },
      "execution_count": 13,
      "outputs": [
        {
          "output_type": "stream",
          "name": "stdout",
          "text": [
            "   *     *\n",
            "  ***   ***\n",
            " ***** *****\n",
            "*************\n",
            " ***** *****\n",
            "  ***   ***\n",
            "   *     *\n",
            "  ***   ***\n",
            " ***** *****\n",
            "*************\n",
            " ***** *****\n",
            "  ***   ***\n",
            "   *     *\n"
          ]
        }
      ]
    },
    {
      "cell_type": "code",
      "source": [
        "# 別解\n",
        "max = (2*4-1)*2-1\n",
        "\n",
        "for i in range(1,8):\n",
        "  N1 = abs(4-i)  # 空白の数（左方）\n",
        "  N2 = (2*4-1)-2*N1  # 真ん中の行の長さ - 空白の数（両方）\n",
        "  N3 = max - (N1*2 + N2*2) + int(i==4)  # 空白の数（真ん中）\n",
        "  N4 = max - (N1*2+N2+N3)  # \"*\"の数（右方）\n",
        "\n",
        "  print(\" \"*N1 + \"*\"*N2 + \" \"*N3 + \"*\"*N4)  # \"*\"の数（右方）\n",
        "  \n",
        "for i in range(2,2*4):\n",
        "  N1 = abs(4-i)     # 空白の数（片方）\n",
        "  N2 = (2*4-1)-2*N1 # 真ん中の行の長さ - 空白の数（両方）\n",
        "  N3 = max - (N1*2 + N2*2) + int(i==4)  # 空白の数（真ん中）\n",
        "  N4 = max - (N1*2+N2+N3)  # \"*\"の数（右方）\n",
        "\n",
        "  print(\" \"*N1 + \"*\"*N2 + \" \"*N3 + \"*\"*N4)"
      ],
      "metadata": {
        "id": "BVXjDteuIijL",
        "colab": {
          "base_uri": "https://localhost:8080/"
        },
        "outputId": "86ce9b90-0df5-4b82-b33d-0702caeabbb0"
      },
      "execution_count": 14,
      "outputs": [
        {
          "output_type": "stream",
          "name": "stdout",
          "text": [
            "   *     *\n",
            "  ***   ***\n",
            " ***** *****\n",
            "*************\n",
            " ***** *****\n",
            "  ***   ***\n",
            "   *     *\n",
            "  ***   ***\n",
            " ***** *****\n",
            "*************\n",
            " ***** *****\n",
            "  ***   ***\n",
            "   *     *\n"
          ]
        }
      ]
    },
    {
      "cell_type": "markdown",
      "source": [
        "## 課題8"
      ],
      "metadata": {
        "id": "31u0ExX2IjWj"
      }
    },
    {
      "cell_type": "markdown",
      "source": [
        "課題7の場合を`n=4`として、nを自分で設定して出力できるようにしてください"
      ],
      "metadata": {
        "id": "zeOvmKarInpz"
      }
    },
    {
      "cell_type": "markdown",
      "source": [
        "＜例＞ n=5の場合  \n",
        "\n",
        "![AlTnu1k.png](https://imgur.com/AlTnu1k.png)"
      ],
      "metadata": {
        "id": "2uLR5sbKIov2"
      }
    },
    {
      "cell_type": "code",
      "source": [
        "# 解答例\n",
        "n = 5\n",
        "\n",
        "for i in range(1,2*n):\n",
        "  N1 = abs(n-i)  # 空白の数（左方）\n",
        "  N2 = (2*n-1)-2*N1  # 真ん中の行の長さ - 空白の数（両方）\n",
        "\n",
        "  if i==n:\n",
        "    N3 = 2*N1  # 空白の数（真ん中）\n",
        "    N4 = N2-1  # \"*\"の数（右方）\n",
        "\n",
        "  else:\n",
        "    N3 = 2*N1-1  # 空白の数（真ん中）\n",
        "    N4 = N2  # \"*\"の数（右方）\n",
        "\n",
        "  for j in range(N1):\n",
        "    print(\" \", end=\"\")\n",
        "\n",
        "  for j in range(N2):\n",
        "    print(\"*\", end=\"\")\n",
        "\n",
        "  for j in range(N3):\n",
        "    print(\" \", end=\"\")\n",
        "\n",
        "  for j in range(N4):\n",
        "    print(\"*\", end=\"\")    \n",
        "\n",
        "  print()  # 改行\n",
        "\n",
        "\n",
        "\n",
        "for i in range(2,2*n):\n",
        "  N1 = abs(n-i)\n",
        "  N2 = (2*n-1)-2*N1\n",
        "\n",
        "  if i==n:\n",
        "    N3 = 2*N1\n",
        "    N4 = N2-1\n",
        "\n",
        "  else:\n",
        "    N3 = 2*N1-1\n",
        "    N4 = N2\n",
        "\n",
        "  for j in range(N1):\n",
        "    print(\" \", end=\"\")\n",
        "\n",
        "  for j in range(N2):\n",
        "    print(\"*\", end=\"\")\n",
        "\n",
        "  for j in range(N3):\n",
        "    print(\" \", end=\"\")\n",
        "\n",
        "  for j in range(N4):\n",
        "    print(\"*\", end=\"\")    \n",
        "\n",
        "  print()  # 改行  "
      ],
      "metadata": {
        "id": "TXJaIVbYI_Cd",
        "colab": {
          "base_uri": "https://localhost:8080/"
        },
        "outputId": "78279d5c-42a9-4ad8-b5c7-5b73617d2004"
      },
      "execution_count": 15,
      "outputs": [
        {
          "output_type": "stream",
          "name": "stdout",
          "text": [
            "    *       *\n",
            "   ***     ***\n",
            "  *****   *****\n",
            " ******* *******\n",
            "*****************\n",
            " ******* *******\n",
            "  *****   *****\n",
            "   ***     ***\n",
            "    *       *\n",
            "   ***     ***\n",
            "  *****   *****\n",
            " ******* *******\n",
            "*****************\n",
            " ******* *******\n",
            "  *****   *****\n",
            "   ***     ***\n",
            "    *       *\n"
          ]
        }
      ]
    },
    {
      "cell_type": "code",
      "source": [
        "# 別解\n",
        "n = 5\n",
        "\n",
        "max = (2*n-1)*2-1\n",
        "\n",
        "for i in range(1,2*n):\n",
        "  N1 = abs(n-i)     # 空白の数（片方）\n",
        "  N2 = (2*n-1)-2*N1 # 真ん中の行の長さ - 空白の数（両方）\n",
        "  N3 = max - (N1*2 + N2*2) + int(i==n)  # 空白の数（真ん中）\n",
        "  N4 = max - (N1*2+N2+N3)  # \"*\"の数（右方）\n",
        "\n",
        "  print(\" \"*N1 + \"*\"*N2 + \" \"*N3 + \"*\"*N4)\n",
        "  \n",
        "for i in range(2,2*n):\n",
        "  N1 = abs(n-i)     # 空白の数（片方）\n",
        "  N2 = (2*n-1)-2*N1 # 真ん中の行の長さ - 空白の数（両方）\n",
        "  N3 = max - (N1*2 + N2*2) + int(i==n)  # 空白の数（真ん中）\n",
        "  N4 = max - (N1*2+N2+N3)  # \"*\"の数（右方）\n",
        "\n",
        "  print(\" \"*N1 + \"*\"*N2 + \" \"*N3 + \"*\"*N4)"
      ],
      "metadata": {
        "id": "ABe18zU0sJbd",
        "colab": {
          "base_uri": "https://localhost:8080/"
        },
        "outputId": "6a2ceff7-cf7a-4e88-a75d-4cf864665ab0"
      },
      "execution_count": 16,
      "outputs": [
        {
          "output_type": "stream",
          "name": "stdout",
          "text": [
            "    *       *\n",
            "   ***     ***\n",
            "  *****   *****\n",
            " ******* *******\n",
            "*****************\n",
            " ******* *******\n",
            "  *****   *****\n",
            "   ***     ***\n",
            "    *       *\n",
            "   ***     ***\n",
            "  *****   *****\n",
            " ******* *******\n",
            "*****************\n",
            " ******* *******\n",
            "  *****   *****\n",
            "   ***     ***\n",
            "    *       *\n"
          ]
        }
      ]
    }
  ]
}
